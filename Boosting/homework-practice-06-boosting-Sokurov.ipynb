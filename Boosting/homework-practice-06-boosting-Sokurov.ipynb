{
 "cells": [
  {
   "cell_type": "markdown",
   "metadata": {
    "pycharm": {
     "name": "#%% md\n"
    }
   },
   "source": [
    "# Машинное обучение, ФКН ВШЭ\n",
    "\n",
    "# Практическое задание 6. Бустинговое\n",
    "\n",
    "## Общая информация\n",
    "\n",
    "Дата выдачи: 12.12.2023\n",
    "\n",
    "Мягкий дедлайн: 24.12.2023 23:59 MSK\n",
    "\n",
    "Жёсткий дедлайн: 24.12.2023 23:59 MSK\n",
    "\n",
    "## Оценивание и штрафы\n",
    "\n",
    "Каждая из задач имеет определенную «стоимость» (указана в скобках около задачи). Максимально допустимая оценка за работу — 10 баллов.\n",
    "\n",
    "Сдавать задание после указанного срока сдачи нельзя. При выставлении неполного балла за задание в связи с наличием ошибок на усмотрение проверяющего предусмотрена возможность исправить работу на указанных в ответном письме условиях.\n",
    "\n",
    "Задание выполняется самостоятельно. «Похожие» решения считаются плагиатом и все задействованные студенты (в том числе те, у кого списали) не могут получить за него больше 0 баллов (подробнее о плагиате см. на странице курса). Если вы нашли решение какого-то из заданий (или его часть) в открытом источнике, необходимо указать ссылку на этот источник в отдельном блоке в конце вашей работы (скорее всего вы будете не единственным, кто это нашел, поэтому чтобы исключить подозрение в плагиате, необходима ссылка на источник).\n",
    "\n",
    "Неэффективная реализация кода может негативно отразиться на оценке.\n",
    "\n",
    "## Формат сдачи\n",
    "Задания сдаются через систему anytask. Посылка должна содержать:\n",
    "* Ноутбук homework-practice-06-Username.ipynb\n",
    "\n",
    "Username — ваша фамилия на латинице"
   ]
  },
  {
   "cell_type": "markdown",
   "metadata": {
    "pycharm": {
     "name": "#%% md\n"
    }
   },
   "source": [
    "## О задании\n",
    "\n",
    "В этом задании вам предстоит вручную запрограммировать один из самых мощных алгоритмов машинного обучения — бустинг."
   ]
  },
  {
   "cell_type": "code",
   "execution_count": 14,
   "metadata": {
    "pycharm": {
     "name": "#%%\n"
    }
   },
   "outputs": [
    {
     "name": "stdout",
     "output_type": "stream",
     "text": [
      "The autoreload extension is already loaded. To reload it, use:\n",
      "  %reload_ext autoreload\n"
     ]
    }
   ],
   "source": [
    "from warnings import filterwarnings\n",
    "\n",
    "import matplotlib.pyplot as plt\n",
    "import pandas as pd\n",
    "import numpy as np\n",
    "import seaborn as sns\n",
    "from scipy.sparse import load_npz\n",
    "from sklearn.model_selection import train_test_split\n",
    "from sklearn.linear_model import LogisticRegression\n",
    "from sklearn.calibration import calibration_curve\n",
    "\n",
    "\n",
    "\n",
    "sns.set(style='darkgrid')\n",
    "filterwarnings('ignore')\n",
    "%load_ext autoreload\n",
    "%autoreload 2"
   ]
  },
  {
   "cell_type": "code",
   "execution_count": 15,
   "metadata": {
    "pycharm": {
     "name": "#%%\n"
    }
   },
   "outputs": [],
   "source": [
    "x = load_npz('x.npz')\n",
    "y = np.load('y.npy')"
   ]
  },
  {
   "cell_type": "markdown",
   "metadata": {
    "pycharm": {
     "name": "#%% md\n"
    }
   },
   "source": [
    "Разделим на обучающую, валидационную и тестовую выборки (`random_state` оставьте равным 1337 для воспроизводимости)."
   ]
  },
  {
   "cell_type": "code",
   "execution_count": 16,
   "metadata": {
    "pycharm": {
     "name": "#%%\n"
    }
   },
   "outputs": [
    {
     "data": {
      "text/plain": [
       "((18825, 169), (2354, 169), (2353, 169))"
      ]
     },
     "execution_count": 16,
     "metadata": {},
     "output_type": "execute_result"
    }
   ],
   "source": [
    "x_train, x_test, y_train, y_test = train_test_split(x, y, test_size=0.2, random_state=1337)\n",
    "\n",
    "x_test, x_valid, y_test, y_valid = train_test_split(x_test, y_test, test_size=0.5, random_state=1337)\n",
    "\n",
    "x_train.shape, x_valid.shape, x_test.shape"
   ]
  },
  {
   "cell_type": "markdown",
   "metadata": {
    "pycharm": {
     "name": "#%% md\n"
    }
   },
   "source": [
    "## Задание 1. Реализация градиентного бустингового (4 балла)\n",
    "\n",
    "Вам нужно дописать код в файлике `boosting.py`. Для вас уже подготовлен шаблон класса `Boosting`, вы можете менять его по своему усмотрению.\n",
    "\n",
    "### Инструкции для функций:\n",
    "\n",
    "#### `__init__`\n",
    "\n",
    "В `__init__` приходит кучка параметров, распишем что есть что:\n",
    "\n",
    " - `base_model_class` - класс базовой модели нашего бустинга\n",
    " - `base_model_params` - словарь с гиперпараметрами для базовой модели\n",
    " - `n_estimators` - какое количество базовых моделей нужно обучить\n",
    " - `learning_rate` - темп обучения, должен быть из полуинтервала $(0, 1]$\n",
    " - `subsample` - доля объектов, на которой будет обучаться базовая модель (какую часть составляет бутстрапная выборка от исходной обучающей)\n",
    " - `early_stopping_rounds` - число итераций, после которых при отсутствии улучшения качества на валидационной выборке обучение останавливается\n",
    " - `plot` - строить ли после обучения всех базовых моделей график с качеством\n",
    "\n",
    "#### `fit`\n",
    "\n",
    "В `fit` приходит две выборки, обучающая и валидационная. На обучающей мы обучаем новые базовые модели, на валидационной считаем качество для ранней остановки (если это предусматривают параметры).\n",
    "\n",
    "Сначала нам нужно сделать какую-то нулевую модель, сделать предсказания для обучающей и валидационной выборок (в шаблоне это нулевая модель, соответственно предсказания это просто `np.zeros`). После этого нужно обучить `n_estimators` базовых моделей (как и на что обучаются базовые модели смотрите в лекциях и семинарах). После каждой обученной базовой модели мы должны обновить текущие предсказания, посчитать ошибку на обучающей и валидационной выборках (используем `loss_fn` для этого), проверить на раннюю остановку.\n",
    "\n",
    "После всего цикла обучения надо нарисовать график (если `plot`).\n",
    "\n",
    "\n",
    "#### `fit_new_base_model`\n",
    "\n",
    "В `fit_new_base_model` приходит обучающая выборка (целиком) и текущие предсказания для неё. Мы должны сгенерировать бутстрап выборку для обучения базовой модели и обучить базовую модель. После обучения модели запускаем поиск оптимальной гаммы, добавляем новую модель и гамму (не забываем про темп обучения) в соответствующие списки.\n",
    "\n",
    "#### `predict_proba`\n",
    "\n",
    "В `predict_proba` приходит выборка, нужно предсказать вероятности для неё. Суммируем предсказания базовых моделей на этой выборке (не забываем про гаммы) и накидываем сигмоиду."
   ]
  },
  {
   "cell_type": "code",
   "execution_count": 17,
   "metadata": {
    "pycharm": {
     "name": "#%%\n"
    }
   },
   "outputs": [],
   "source": [
    "from boosting import Boosting"
   ]
  },
  {
   "cell_type": "markdown",
   "metadata": {
    "pycharm": {
     "name": "#%% md\n"
    }
   },
   "source": [
    "### Проверка кода\n",
    "\n",
    "У автора задания всё учится около одной секунды."
   ]
  },
  {
   "cell_type": "code",
   "execution_count": 18,
   "metadata": {
    "pycharm": {
     "name": "#%%\n"
    }
   },
   "outputs": [
    {
     "name": "stdout",
     "output_type": "stream",
     "text": [
      "Время выполнения: 1.261625051498413 секунд\n",
      "Train ROC-AUC 0.9896\n",
      "Valid ROC-AUC 0.9044\n",
      "Test ROC-AUC 0.9135\n"
     ]
    }
   ],
   "source": [
    "import time\n",
    "\n",
    "boosting = Boosting()\n",
    "\n",
    "start_time = time.time()\n",
    "boosting.fit(x_train, y_train, x_valid, y_valid)\n",
    "end_time = time.time()\n",
    "\n",
    "print(f\"Время выполнения: {end_time - start_time} секунд\")\n",
    "\n",
    "assert len(boosting.models) == boosting.n_estimators\n",
    "assert len(boosting.gammas) == boosting.n_estimators\n",
    "\n",
    "assert boosting.predict_proba(x_test).shape == (x_test.shape[0], 2)\n",
    "\n",
    "print(f'Train ROC-AUC {boosting.score(x_train, y_train):.4f}')\n",
    "print(f'Valid ROC-AUC {boosting.score(x_valid, y_valid):.4f}')\n",
    "print(f'Test ROC-AUC {boosting.score(x_test, y_test):.4f}')\n"
   ]
  },
  {
   "cell_type": "markdown",
   "metadata": {
    "pycharm": {
     "name": "#%% md\n"
    }
   },
   "source": [
    "## Задание 2. Обучение градиентного бустингового (1 балл)\n",
    "\n",
    "Оцените качество на тестовой выборке вашей имплементации бустинга для различной максимальной глубины решающего дерева в качестве базовой модели. Здесь и далее мы будем использовать метрику ROC-AUC.\n",
    "\n",
    "Перебирайте максимальную глубину от 1 до 30 с шагом 2 (остальные параметры бустинга стоит оставить равными по умолчанию). Постройте график зависимости качества на обучающей и тестовой выборке в зависимости от глубины."
   ]
  },
  {
   "cell_type": "code",
   "execution_count": 19,
   "metadata": {
    "pycharm": {
     "name": "#%%\n"
    }
   },
   "outputs": [
    {
     "data": {
      "image/png": "[encoded data removed]",
      "text/plain": [
       "<Figure size 1000x500 with 1 Axes>"
      ]
     },
     "metadata": {},
     "output_type": "display_data"
    }
   ],
   "source": [
    "train_scores = []\n",
    "test_scores = []\n",
    "\n",
    "for depth in range(1, 31, 2):\n",
    "    boosting = Boosting(base_model_params={'max_depth': depth, 'random_state':42})\n",
    "    boosting.fit(x_train, y_train, x_train, y_train)  \n",
    "    train_scores.append(boosting.score(x_train, y_train))\n",
    "    test_scores.append(boosting.score(x_test, y_test))\n",
    "\n",
    "plt.figure(figsize=(10, 5))\n",
    "plt.plot(range(1, 31, 2), train_scores, label='Train ROC-AUC')\n",
    "plt.plot(range(1, 31, 2), test_scores, label='Test ROC-AUC')\n",
    "plt.xlabel('Max Depth')\n",
    "plt.ylabel('ROC-AUC')\n",
    "plt.title('ROC-AUC vs Max Depth for Gradient Boosting')\n",
    "plt.legend()\n",
    "plt.show()"
   ]
  },
  {
   "cell_type": "markdown",
   "metadata": {
    "pycharm": {
     "name": "#%% md\n"
    }
   },
   "source": [
    "**Какая из моделей имеет лучшее качество? Как вы можете это объяснить?**\n",
    "\n",
    "__Ответ:__ Наилучшим качеством обладает модель с глубинной базовых моделей 7 - то есть с не слишком глубокими деревьями. Так как видно, что далее качество на тесте растет, а на трейне падает - можно сделать вывод о том, что при дальнейшем усложении базовых моделей падает обобщающая способность моделей, они переобучаются на остатки и плохо предсказывают новые данные."
   ]
  },
  {
   "cell_type": "markdown",
   "metadata": {
    "pycharm": {
     "name": "#%% md\n"
    }
   },
   "source": [
    "## Задание 3. Подбираем гиперпараметры и ищем лучшую модель (3 балла)\n",
    "\n",
    "Подберите по валидационной выборке основные гиперпараметры для вашей модели бустинга. Следует подобрать все основные параметры для самого градиентного бустинга и для самих базовых моделей. Существуют библиотеки для подбора гиперпараметров, попробуйте использовать какую-нибудь из следующих двух - [Hyperopt](https://github.com/hyperopt/hyperopt), [Optuna](https://optuna.org/)."
   ]
  },
  {
   "cell_type": "code",
   "execution_count": 20,
   "metadata": {},
   "outputs": [
    {
     "name": "stdout",
     "output_type": "stream",
     "text": [
      "Requirement already satisfied: optuna in c:\\users\\rusta\\anaconda3\\lib\\site-packages (3.5.0)\n",
      "Requirement already satisfied: sqlalchemy>=1.3.0 in c:\\users\\rusta\\anaconda3\\lib\\site-packages (from optuna) (1.4.39)\n",
      "Requirement already satisfied: PyYAML in c:\\users\\rusta\\anaconda3\\lib\\site-packages (from optuna) (6.0)\n",
      "Requirement already satisfied: packaging>=20.0 in c:\\users\\rusta\\anaconda3\\lib\\site-packages (from optuna) (21.3)\n",
      "Requirement already satisfied: colorlog in c:\\users\\rusta\\anaconda3\\lib\\site-packages (from optuna) (6.8.0)\n",
      "Requirement already satisfied: tqdm in c:\\users\\rusta\\anaconda3\\lib\\site-packages (from optuna) (4.64.1)\n",
      "Requirement already satisfied: numpy in c:\\users\\rusta\\anaconda3\\lib\\site-packages (from optuna) (1.21.5)\n",
      "Requirement already satisfied: alembic>=1.5.0 in c:\\users\\rusta\\anaconda3\\lib\\site-packages (from optuna) (1.13.0)\n",
      "Requirement already satisfied: typing-extensions>=4 in c:\\users\\rusta\\anaconda3\\lib\\site-packages (from alembic>=1.5.0->optuna) (4.3.0)\n",
      "Requirement already satisfied: Mako in c:\\users\\rusta\\anaconda3\\lib\\site-packages (from alembic>=1.5.0->optuna) (1.3.0)\n",
      "Requirement already satisfied: pyparsing!=3.0.5,>=2.0.2 in c:\\users\\rusta\\anaconda3\\lib\\site-packages (from packaging>=20.0->optuna) (3.0.9)\n",
      "Requirement already satisfied: greenlet!=0.4.17 in c:\\users\\rusta\\anaconda3\\lib\\site-packages (from sqlalchemy>=1.3.0->optuna) (1.1.1)\n",
      "Requirement already satisfied: colorama in c:\\users\\rusta\\anaconda3\\lib\\site-packages (from colorlog->optuna) (0.4.5)\n",
      "Requirement already satisfied: MarkupSafe>=0.9.2 in c:\\users\\rusta\\anaconda3\\lib\\site-packages (from Mako->alembic>=1.5.0->optuna) (2.0.1)\n"
     ]
    }
   ],
   "source": [
    "!pip install optuna"
   ]
  },
  {
   "cell_type": "code",
   "execution_count": 21,
   "metadata": {
    "pycharm": {
     "is_executing": true,
     "name": "#%%\n"
    }
   },
   "outputs": [],
   "source": [
    "# YOUR CODE:\n",
    "import optuna\n",
    "from sklearn.metrics import roc_auc_score\n",
    "\n",
    "def objective(trial):\n",
    "    # Гиперпараметры для бустинга\n",
    "    n_estimators = trial.suggest_int('n_estimators', 1, 50)\n",
    "    learning_rate = trial.suggest_float('learning_rate', 0.01, 0.5)\n",
    "    subsample = trial.suggest_float('subsample', 0.5, 1.0)\n",
    "    early_stopping_rounds = trial.suggest_int('early_stopping_rounds', 1, 50)\n",
    "\n",
    "    # Гиперпараметры для базовой модели (решающее дерево)\n",
    "    max_depth = trial.suggest_int('max_depth', 1, 30)\n",
    "\n",
    "    # Создание модели\n",
    "    boosting = Boosting(base_model_params={'max_depth': max_depth, 'random_state': 42}, \n",
    "                        n_estimators=n_estimators,\n",
    "                        learning_rate=learning_rate,\n",
    "                        subsample=subsample,\n",
    "                        early_stopping_rounds = early_stopping_rounds)\n",
    "\n",
    "    # Обучение модели\n",
    "    boosting.fit(x_train, y_train, x_valid, y_valid)\n",
    "\n",
    "    # Оценка модели\n",
    "    valid_pred = boosting.predict_proba(x_valid)\n",
    "    return roc_auc_score(y_valid, valid_pred[:, 1])\n"
   ]
  },
  {
   "cell_type": "code",
   "execution_count": 22,
   "metadata": {},
   "outputs": [
    {
     "name": "stderr",
     "output_type": "stream",
     "text": [
      "[I 2023-12-24 23:10:34,195] A new study created in memory with name: no-name-3933b668-3a4b-4749-a4a8-bd97efb0ab4f\n",
      "[I 2023-12-24 23:10:37,259] Trial 0 finished with value: 0.9395075002015433 and parameters: {'n_estimators': 38, 'learning_rate': 0.267528422096403, 'subsample': 0.6390317999411378, 'early_stopping_rounds': 45, 'max_depth': 9}. Best is trial 0 with value: 0.9395075002015433.\n",
      "[I 2023-12-24 23:10:37,391] Trial 1 finished with value: 0.9101157137463654 and parameters: {'n_estimators': 3, 'learning_rate': 0.45111702705149476, 'subsample': 0.8916680425955651, 'early_stopping_rounds': 18, 'max_depth': 3}. Best is trial 0 with value: 0.9395075002015433.\n",
      "[I 2023-12-24 23:10:43,894] Trial 2 finished with value: 0.9322387740425101 and parameters: {'n_estimators': 34, 'learning_rate': 0.06186235602059321, 'subsample': 0.6797343962063904, 'early_stopping_rounds': 2, 'max_depth': 15}. Best is trial 0 with value: 0.9395075002015433.\n",
      "[I 2023-12-24 23:10:50,167] Trial 3 finished with value: 0.923111460186633 and parameters: {'n_estimators': 25, 'learning_rate': 0.014824970148055183, 'subsample': 0.5830658009141747, 'early_stopping_rounds': 35, 'max_depth': 30}. Best is trial 0 with value: 0.9395075002015433.\n",
      "[I 2023-12-24 23:10:51,063] Trial 4 finished with value: 0.9152121631534291 and parameters: {'n_estimators': 5, 'learning_rate': 0.07882009953904243, 'subsample': 0.7104263144434182, 'early_stopping_rounds': 45, 'max_depth': 16}. Best is trial 0 with value: 0.9395075002015433.\n",
      "[I 2023-12-24 23:10:55,721] Trial 5 finished with value: 0.9227211447974311 and parameters: {'n_estimators': 28, 'learning_rate': 0.1813857033289553, 'subsample': 0.5176249844598424, 'early_stopping_rounds': 39, 'max_depth': 20}. Best is trial 0 with value: 0.9395075002015433.\n",
      "[I 2023-12-24 23:10:59,926] Trial 6 finished with value: 0.9229298717386915 and parameters: {'n_estimators': 21, 'learning_rate': 0.10515978073136126, 'subsample': 0.5437680720247371, 'early_stopping_rounds': 10, 'max_depth': 23}. Best is trial 0 with value: 0.9395075002015433.\n",
      "[I 2023-12-24 23:11:13,099] Trial 7 finished with value: 0.9185262521022354 and parameters: {'n_estimators': 31, 'learning_rate': 0.39000805485721973, 'subsample': 0.954733414878602, 'early_stopping_rounds': 11, 'max_depth': 29}. Best is trial 0 with value: 0.9395075002015433.\n",
      "[I 2023-12-24 23:11:20,249] Trial 8 finished with value: 0.9264091862203502 and parameters: {'n_estimators': 26, 'learning_rate': 0.3805178357751927, 'subsample': 0.9588414702039088, 'early_stopping_rounds': 4, 'max_depth': 18}. Best is trial 0 with value: 0.9395075002015433.\n",
      "[I 2023-12-24 23:11:30,577] Trial 9 finished with value: 0.9221632093024368 and parameters: {'n_estimators': 46, 'learning_rate': 0.388193855968531, 'subsample': 0.680355992600047, 'early_stopping_rounds': 42, 'max_depth': 21}. Best is trial 0 with value: 0.9395075002015433.\n",
      "[I 2023-12-24 23:11:34,097] Trial 10 finished with value: 0.9413030308109701 and parameters: {'n_estimators': 50, 'learning_rate': 0.2642428446067903, 'subsample': 0.8220483783112617, 'early_stopping_rounds': 29, 'max_depth': 7}. Best is trial 10 with value: 0.9413030308109701.\n",
      "[I 2023-12-24 23:11:37,569] Trial 11 finished with value: 0.9402562033407486 and parameters: {'n_estimators': 50, 'learning_rate': 0.2555457998525507, 'subsample': 0.8122279715133932, 'early_stopping_rounds': 29, 'max_depth': 7}. Best is trial 10 with value: 0.9413030308109701.\n",
      "[I 2023-12-24 23:11:39,436] Trial 12 finished with value: 0.9072146886296897 and parameters: {'n_estimators': 50, 'learning_rate': 0.26342996318911377, 'subsample': 0.8068143429236919, 'early_stopping_rounds': 29, 'max_depth': 1}. Best is trial 10 with value: 0.9413030308109701.\n",
      "[I 2023-12-24 23:11:43,005] Trial 13 finished with value: 0.9393243153716417 and parameters: {'n_estimators': 42, 'learning_rate': 0.1947793751057493, 'subsample': 0.7954648671718423, 'early_stopping_rounds': 26, 'max_depth': 8}. Best is trial 10 with value: 0.9413030308109701.\n",
      "[I 2023-12-24 23:11:47,960] Trial 14 finished with value: 0.941886109321833 and parameters: {'n_estimators': 50, 'learning_rate': 0.3170824019259023, 'subsample': 0.8558459450124554, 'early_stopping_rounds': 32, 'max_depth': 9}. Best is trial 14 with value: 0.941886109321833.\n",
      "[I 2023-12-24 23:11:50,035] Trial 15 finished with value: 0.935777952847666 and parameters: {'n_estimators': 15, 'learning_rate': 0.31415050811280526, 'subsample': 0.8803510508337173, 'early_stopping_rounds': 20, 'max_depth': 11}. Best is trial 14 with value: 0.941886109321833.\n",
      "[I 2023-12-24 23:11:56,138] Trial 16 finished with value: 0.9372490188237379 and parameters: {'n_estimators': 41, 'learning_rate': 0.18659323639421393, 'subsample': 0.8767798391586922, 'early_stopping_rounds': 34, 'max_depth': 12}. Best is trial 14 with value: 0.941886109321833.\n",
      "[I 2023-12-24 23:11:58,191] Trial 17 finished with value: 0.935198466196213 and parameters: {'n_estimators': 45, 'learning_rate': 0.3202849302679621, 'subsample': 0.7456981916375549, 'early_stopping_rounds': 50, 'max_depth': 4}. Best is trial 14 with value: 0.941886109321833.\n",
      "[I 2023-12-24 23:12:04,116] Trial 18 finished with value: 0.9327739610945751 and parameters: {'n_estimators': 36, 'learning_rate': 0.4957689358323508, 'subsample': 0.9952717205933307, 'early_stopping_rounds': 21, 'max_depth': 12}. Best is trial 14 with value: 0.941886109321833.\n",
      "[I 2023-12-24 23:12:05,043] Trial 19 finished with value: 0.9350691592574589 and parameters: {'n_estimators': 14, 'learning_rate': 0.3234061972933611, 'subsample': 0.8297711034184838, 'early_stopping_rounds': 33, 'max_depth': 6}. Best is trial 14 with value: 0.941886109321833.\n",
      "[I 2023-12-24 23:12:07,427] Trial 20 finished with value: 0.9369209623309731 and parameters: {'n_estimators': 45, 'learning_rate': 0.23142298475178516, 'subsample': 0.7418808875023488, 'early_stopping_rounds': 15, 'max_depth': 5}. Best is trial 14 with value: 0.941886109321833.\n",
      "[I 2023-12-24 23:12:11,866] Trial 21 finished with value: 0.9402613915821183 and parameters: {'n_estimators': 50, 'learning_rate': 0.14371992215555274, 'subsample': 0.8382563133185345, 'early_stopping_rounds': 27, 'max_depth': 8}. Best is trial 14 with value: 0.941886109321833.\n",
      "[I 2023-12-24 23:12:17,858] Trial 22 finished with value: 0.9406293576238813 and parameters: {'n_estimators': 50, 'learning_rate': 0.13919351842955704, 'subsample': 0.8613791827795778, 'early_stopping_rounds': 23, 'max_depth': 10}. Best is trial 14 with value: 0.941886109321833.\n",
      "[I 2023-12-24 23:12:25,612] Trial 23 finished with value: 0.9319781646875521 and parameters: {'n_estimators': 40, 'learning_rate': 0.2999910364601859, 'subsample': 0.9232284120941793, 'early_stopping_rounds': 23, 'max_depth': 14}. Best is trial 14 with value: 0.941886109321833.\n",
      "[I 2023-12-24 23:12:30,755] Trial 24 finished with value: 0.9382196190553729 and parameters: {'n_estimators': 46, 'learning_rate': 0.13951578905838385, 'subsample': 0.7803680503033732, 'early_stopping_rounds': 33, 'max_depth': 10}. Best is trial 14 with value: 0.941886109321833.\n",
      "[I 2023-12-24 23:12:38,199] Trial 25 finished with value: 0.9326925456146191 and parameters: {'n_estimators': 45, 'learning_rate': 0.2235221798799653, 'subsample': 0.8560647903249737, 'early_stopping_rounds': 16, 'max_depth': 13}. Best is trial 14 with value: 0.941886109321833.\n",
      "[I 2023-12-24 23:12:39,520] Trial 26 finished with value: 0.920866548055487 and parameters: {'n_estimators': 33, 'learning_rate': 0.35157890652859175, 'subsample': 0.8979844431599061, 'early_stopping_rounds': 23, 'max_depth': 2}. Best is trial 14 with value: 0.941886109321833.\n",
      "[I 2023-12-24 23:12:42,565] Trial 27 finished with value: 0.9376744546160581 and parameters: {'n_estimators': 50, 'learning_rate': 0.1435478172226972, 'subsample': 0.7704745172869985, 'early_stopping_rounds': 38, 'max_depth': 6}. Best is trial 14 with value: 0.941886109321833.\n",
      "[I 2023-12-24 23:12:46,600] Trial 28 finished with value: 0.9384882103201304 and parameters: {'n_estimators': 42, 'learning_rate': 0.430231235016919, 'subsample': 0.8497605325432909, 'early_stopping_rounds': 30, 'max_depth': 9}. Best is trial 14 with value: 0.941886109321833.\n",
      "[I 2023-12-24 23:12:55,800] Trial 29 finished with value: 0.9270182059380621 and parameters: {'n_estimators': 37, 'learning_rate': 0.22234165087995145, 'subsample': 0.9176253752112986, 'early_stopping_rounds': 12, 'max_depth': 17}. Best is trial 14 with value: 0.941886109321833.\n",
      "[I 2023-12-24 23:12:59,408] Trial 30 finished with value: 0.9373707429481822 and parameters: {'n_estimators': 40, 'learning_rate': 0.2798587135000034, 'subsample': 0.6315905670798503, 'early_stopping_rounds': 24, 'max_depth': 10}. Best is trial 14 with value: 0.941886109321833.\n",
      "[I 2023-12-24 23:13:03,585] Trial 31 finished with value: 0.9397385764902424 and parameters: {'n_estimators': 49, 'learning_rate': 0.16919316083989744, 'subsample': 0.8366828114279837, 'early_stopping_rounds': 30, 'max_depth': 8}. Best is trial 14 with value: 0.941886109321833.\n",
      "[I 2023-12-24 23:13:05,638] Trial 32 finished with value: 0.9249927963264059 and parameters: {'n_estimators': 48, 'learning_rate': 0.11907192236940237, 'subsample': 0.8725191123117987, 'early_stopping_rounds': 26, 'max_depth': 3}. Best is trial 14 with value: 0.941886109321833.\n",
      "[I 2023-12-24 23:13:09,843] Trial 33 finished with value: 0.9374573466695084 and parameters: {'n_estimators': 43, 'learning_rate': 0.021889527158293787, 'subsample': 0.9250121969828543, 'early_stopping_rounds': 19, 'max_depth': 8}. Best is trial 14 with value: 0.941886109321833.\n",
      "[I 2023-12-24 23:13:12,391] Trial 34 finished with value: 0.9304500280564129 and parameters: {'n_estimators': 47, 'learning_rate': 0.06649539874179171, 'subsample': 0.8191734212771885, 'early_stopping_rounds': 27, 'max_depth': 5}. Best is trial 14 with value: 0.941886109321833.\n",
      "[I 2023-12-24 23:13:18,010] Trial 35 finished with value: 0.930751345151349 and parameters: {'n_estimators': 37, 'learning_rate': 0.28254457130587207, 'subsample': 0.7241755935044211, 'early_stopping_rounds': 36, 'max_depth': 14}. Best is trial 14 with value: 0.941886109321833.\n",
      "[I 2023-12-24 23:13:22,925] Trial 36 finished with value: 0.9369141777076434 and parameters: {'n_estimators': 44, 'learning_rate': 0.09155882828476739, 'subsample': 0.7841657173466746, 'early_stopping_rounds': 31, 'max_depth': 10}. Best is trial 14 with value: 0.941886109321833.\n",
      "[I 2023-12-24 23:13:23,352] Trial 37 finished with value: 0.9324055959573222 and parameters: {'n_estimators': 5, 'learning_rate': 0.04461064502232635, 'subsample': 0.8587909095886108, 'early_stopping_rounds': 38, 'max_depth': 7}. Best is trial 14 with value: 0.941886109321833.\n",
      "[I 2023-12-24 23:13:42,277] Trial 38 finished with value: 0.9202116323564273 and parameters: {'n_estimators': 48, 'learning_rate': 0.2103551915107098, 'subsample': 0.953859623081161, 'early_stopping_rounds': 42, 'max_depth': 26}. Best is trial 14 with value: 0.941886109321833.\n",
      "[I 2023-12-24 23:13:44,118] Trial 39 finished with value: 0.9303370840327482 and parameters: {'n_estimators': 39, 'learning_rate': 0.14887318864101676, 'subsample': 0.7569438331429322, 'early_stopping_rounds': 17, 'max_depth': 4}. Best is trial 14 with value: 0.941886109321833.\n",
      "[I 2023-12-24 23:13:48,545] Trial 40 finished with value: 0.924839942753743 and parameters: {'n_estimators': 21, 'learning_rate': 0.3447526883377238, 'subsample': 0.8955512086389362, 'early_stopping_rounds': 22, 'max_depth': 15}. Best is trial 14 with value: 0.941886109321833.\n",
      "[I 2023-12-24 23:13:52,120] Trial 41 finished with value: 0.9397182226202535 and parameters: {'n_estimators': 50, 'learning_rate': 0.2655383173332142, 'subsample': 0.8058888821973025, 'early_stopping_rounds': 27, 'max_depth': 7}. Best is trial 14 with value: 0.941886109321833.\n",
      "[I 2023-12-24 23:13:56,799] Trial 42 finished with value: 0.9412236108084637 and parameters: {'n_estimators': 50, 'learning_rate': 0.3485186327571139, 'subsample': 0.8303860118323237, 'early_stopping_rounds': 28, 'max_depth': 9}. Best is trial 14 with value: 0.941886109321833.\n",
      "[I 2023-12-24 23:14:01,343] Trial 43 finished with value: 0.9406936119977682 and parameters: {'n_estimators': 47, 'learning_rate': 0.35660626888721975, 'subsample': 0.8331999993922877, 'early_stopping_rounds': 28, 'max_depth': 9}. Best is trial 14 with value: 0.941886109321833.\n",
      "[I 2023-12-24 23:14:06,382] Trial 44 finished with value: 0.9372649826433372 and parameters: {'n_estimators': 47, 'learning_rate': 0.41274008205034135, 'subsample': 0.692443508119426, 'early_stopping_rounds': 32, 'max_depth': 11}. Best is trial 14 with value: 0.941886109321833.\n",
      "[I 2023-12-24 23:14:12,903] Trial 45 finished with value: 0.9342354487788875 and parameters: {'n_estimators': 43, 'learning_rate': 0.35956656495997624, 'subsample': 0.8197015888765593, 'early_stopping_rounds': 35, 'max_depth': 12}. Best is trial 14 with value: 0.941886109321833.\n",
      "[I 2023-12-24 23:14:17,949] Trial 46 finished with value: 0.9400550592137978 and parameters: {'n_estimators': 47, 'learning_rate': 0.370497076037807, 'subsample': 0.9089029276415476, 'early_stopping_rounds': 25, 'max_depth': 9}. Best is trial 14 with value: 0.941886109321833.\n",
      "[I 2023-12-24 23:14:19,921] Trial 47 finished with value: 0.9387368468103889 and parameters: {'n_estimators': 31, 'learning_rate': 0.40375940842414704, 'subsample': 0.8634008632036239, 'early_stopping_rounds': 29, 'max_depth': 6}. Best is trial 14 with value: 0.941886109321833.\n",
      "[I 2023-12-24 23:14:34,452] Trial 48 finished with value: 0.9240756748904283 and parameters: {'n_estimators': 48, 'learning_rate': 0.3413531435901117, 'subsample': 0.9440338225448884, 'early_stopping_rounds': 41, 'max_depth': 20}. Best is trial 14 with value: 0.941886109321833.\n",
      "[I 2023-12-24 23:14:39,802] Trial 49 finished with value: 0.9365246605094215 and parameters: {'n_estimators': 44, 'learning_rate': 0.30549341483522935, 'subsample': 0.802232346181438, 'early_stopping_rounds': 36, 'max_depth': 11}. Best is trial 14 with value: 0.941886109321833.\n",
      "[I 2023-12-24 23:14:41,408] Trial 50 finished with value: 0.9155497979379534 and parameters: {'n_estimators': 46, 'learning_rate': 0.46239736964964695, 'subsample': 0.6537063049042722, 'early_stopping_rounds': 21, 'max_depth': 1}. Best is trial 14 with value: 0.941886109321833.\n",
      "[I 2023-12-24 23:14:45,822] Trial 51 finished with value: 0.939987212980501 and parameters: {'n_estimators': 50, 'learning_rate': 0.246667001804701, 'subsample': 0.8451902476801594, 'early_stopping_rounds': 28, 'max_depth': 8}. Best is trial 14 with value: 0.941886109321833.\n",
      "[I 2023-12-24 23:14:50,587] Trial 52 finished with value: 0.9409921354242745 and parameters: {'n_estimators': 50, 'learning_rate': 0.33063523158962443, 'subsample': 0.8364772510033011, 'early_stopping_rounds': 24, 'max_depth': 9}. Best is trial 14 with value: 0.941886109321833.\n",
      "[I 2023-12-24 23:14:58,516] Trial 53 finished with value: 0.9370267226358181 and parameters: {'n_estimators': 48, 'learning_rate': 0.28405158525783614, 'subsample': 0.8774825687258286, 'early_stopping_rounds': 25, 'max_depth': 13}. Best is trial 14 with value: 0.941886109321833.\n",
      "[I 2023-12-24 23:15:02,873] Trial 54 finished with value: 0.9362213479370355 and parameters: {'n_estimators': 42, 'learning_rate': 0.334628574024565, 'subsample': 0.7647548984597266, 'early_stopping_rounds': 5, 'max_depth': 10}. Best is trial 14 with value: 0.941886109321833.\n",
      "[I 2023-12-24 23:15:05,264] Trial 55 finished with value: 0.9391096019980316 and parameters: {'n_estimators': 45, 'learning_rate': 0.37829447714664194, 'subsample': 0.7905230515769524, 'early_stopping_rounds': 19, 'max_depth': 5}. Best is trial 14 with value: 0.941886109321833.\n",
      "[I 2023-12-24 23:15:05,391] Trial 56 finished with value: 0.9156910777414069 and parameters: {'n_estimators': 1, 'learning_rate': 0.3227415687470551, 'subsample': 0.8346044160558179, 'early_stopping_rounds': 32, 'max_depth': 9}. Best is trial 14 with value: 0.941886109321833.\n",
      "[I 2023-12-24 23:15:17,554] Trial 57 finished with value: 0.926541286827534 and parameters: {'n_estimators': 50, 'learning_rate': 0.24669401859903126, 'subsample': 0.9783975275250603, 'early_stopping_rounds': 29, 'max_depth': 16}. Best is trial 14 with value: 0.941886109321833.\n",
      "[I 2023-12-24 23:15:20,985] Trial 58 finished with value: 0.9412184225670939 and parameters: {'n_estimators': 46, 'learning_rate': 0.298314564301514, 'subsample': 0.8876298645243945, 'early_stopping_rounds': 23, 'max_depth': 7}. Best is trial 14 with value: 0.941886109321833.\n",
      "[I 2023-12-24 23:15:21,570] Trial 59 finished with value: 0.9198141332484058 and parameters: {'n_estimators': 13, 'learning_rate': 0.29655432326462033, 'subsample': 0.8912332673320769, 'early_stopping_rounds': 25, 'max_depth': 3}. Best is trial 14 with value: 0.941886109321833.\n",
      "[I 2023-12-24 23:15:23,645] Trial 60 finished with value: 0.9388162668128951 and parameters: {'n_estimators': 26, 'learning_rate': 0.36220646689951974, 'subsample': 0.9362550636537887, 'early_stopping_rounds': 34, 'max_depth': 7}. Best is trial 14 with value: 0.941886109321833.\n",
      "[I 2023-12-24 23:15:26,485] Trial 61 finished with value: 0.9397373792037726 and parameters: {'n_estimators': 46, 'learning_rate': 0.32793894293178105, 'subsample': 0.8200969525880918, 'early_stopping_rounds': 23, 'max_depth': 6}. Best is trial 14 with value: 0.941886109321833.\n",
      "[I 2023-12-24 23:15:33,207] Trial 62 finished with value: 0.935496590527229 and parameters: {'n_estimators': 48, 'learning_rate': 0.39706698528951045, 'subsample': 0.8607070004096462, 'early_stopping_rounds': 20, 'max_depth': 12}. Best is trial 14 with value: 0.941886109321833.\n",
      "[I 2023-12-24 23:15:38,124] Trial 63 finished with value: 0.9408716085862998 and parameters: {'n_estimators': 49, 'learning_rate': 0.2899068475555825, 'subsample': 0.88680508211719, 'early_stopping_rounds': 31, 'max_depth': 9}. Best is trial 14 with value: 0.941886109321833.\n",
      "[I 2023-12-24 23:15:42,535] Trial 64 finished with value: 0.9394352639178567 and parameters: {'n_estimators': 44, 'learning_rate': 0.30967022970194574, 'subsample': 0.885085613215523, 'early_stopping_rounds': 30, 'max_depth': 9}. Best is trial 14 with value: 0.941886109321833.\n",
      "[I 2023-12-24 23:15:44,554] Trial 65 finished with value: 0.934742699146654 and parameters: {'n_estimators': 41, 'learning_rate': 0.29210883866581927, 'subsample': 0.9115614591339979, 'early_stopping_rounds': 28, 'max_depth': 4}. Best is trial 14 with value: 0.941886109321833.\n",
      "[I 2023-12-24 23:15:48,486] Trial 66 finished with value: 0.9410260585409229 and parameters: {'n_estimators': 46, 'learning_rate': 0.2733784351132652, 'subsample': 0.5128832339662833, 'early_stopping_rounds': 32, 'max_depth': 11}. Best is trial 14 with value: 0.941886109321833.\n",
      "[I 2023-12-24 23:15:52,620] Trial 67 finished with value: 0.9382910571480797 and parameters: {'n_estimators': 49, 'learning_rate': 0.2726049475873276, 'subsample': 0.5133213002624228, 'early_stopping_rounds': 32, 'max_depth': 11}. Best is trial 14 with value: 0.941886109321833.\n",
      "[I 2023-12-24 23:15:57,479] Trial 68 finished with value: 0.9343428054656925 and parameters: {'n_estimators': 45, 'learning_rate': 0.25770053019849043, 'subsample': 0.5480990568580942, 'early_stopping_rounds': 34, 'max_depth': 13}. Best is trial 14 with value: 0.941886109321833.\n",
      "[I 2023-12-24 23:16:00,790] Trial 69 finished with value: 0.9408452682839612 and parameters: {'n_estimators': 49, 'learning_rate': 0.3123291737825642, 'subsample': 0.6025191385183566, 'early_stopping_rounds': 37, 'max_depth': 8}. Best is trial 14 with value: 0.941886109321833.\n",
      "[I 2023-12-24 23:16:03,316] Trial 70 finished with value: 0.9391866274275982 and parameters: {'n_estimators': 43, 'learning_rate': 0.23717367828571545, 'subsample': 0.735481084198096, 'early_stopping_rounds': 14, 'max_depth': 6}. Best is trial 14 with value: 0.941886109321833.\n",
      "[I 2023-12-24 23:16:06,482] Trial 71 finished with value: 0.9402170919827303 and parameters: {'n_estimators': 49, 'learning_rate': 0.3154122248115594, 'subsample': 0.57768649998023, 'early_stopping_rounds': 37, 'max_depth': 8}. Best is trial 14 with value: 0.941886109321833.\n",
      "[I 2023-12-24 23:16:09,074] Trial 72 finished with value: 0.9408416764245515 and parameters: {'n_estimators': 46, 'learning_rate': 0.3017983115198989, 'subsample': 0.534157312243282, 'early_stopping_rounds': 48, 'max_depth': 7}. Best is trial 14 with value: 0.941886109321833.\n",
      "[I 2023-12-24 23:16:13,572] Trial 73 finished with value: 0.9376509079821493 and parameters: {'n_estimators': 49, 'learning_rate': 0.3363821462108113, 'subsample': 0.5935955778941312, 'early_stopping_rounds': 31, 'max_depth': 11}. Best is trial 14 with value: 0.941886109321833.\n",
      "[I 2023-12-24 23:16:17,909] Trial 74 finished with value: 0.9395047065331134 and parameters: {'n_estimators': 48, 'learning_rate': 0.27270137606802214, 'subsample': 0.645324144579718, 'early_stopping_rounds': 39, 'max_depth': 10}. Best is trial 14 with value: 0.941886109321833.\n",
      "[I 2023-12-24 23:16:20,229] Trial 75 finished with value: 0.9369421143919421 and parameters: {'n_estimators': 50, 'learning_rate': 0.2037876872663028, 'subsample': 0.5731873352765703, 'early_stopping_rounds': 40, 'max_depth': 5}. Best is trial 14 with value: 0.941886109321833.\n",
      "[I 2023-12-24 23:16:23,437] Trial 76 finished with value: 0.9389663267171283 and parameters: {'n_estimators': 47, 'learning_rate': 0.28773863173723524, 'subsample': 0.6211400924852725, 'early_stopping_rounds': 33, 'max_depth': 8}. Best is trial 14 with value: 0.941886109321833.\n",
      "[I 2023-12-24 23:16:25,643] Trial 77 finished with value: 0.9393470638145707 and parameters: {'n_estimators': 40, 'learning_rate': 0.3136469058871355, 'subsample': 0.5007243359993998, 'early_stopping_rounds': 35, 'max_depth': 7}. Best is trial 14 with value: 0.941886109321833.\n",
      "[I 2023-12-24 23:16:29,140] Trial 78 finished with value: 0.9395793373897399 and parameters: {'n_estimators': 44, 'learning_rate': 0.25659856295107447, 'subsample': 0.60258467694373, 'early_stopping_rounds': 26, 'max_depth': 9}. Best is trial 14 with value: 0.941886109321833.\n",
      "[I 2023-12-24 23:16:31,372] Trial 79 finished with value: 0.9386362747469136 and parameters: {'n_estimators': 34, 'learning_rate': 0.3461687479429902, 'subsample': 0.9022997218526916, 'early_stopping_rounds': 24, 'max_depth': 6}. Best is trial 14 with value: 0.941886109321833.\n",
      "[I 2023-12-24 23:16:35,748] Trial 80 finished with value: 0.9308850421404928 and parameters: {'n_estimators': 24, 'learning_rate': 0.329364736807159, 'subsample': 0.8488906218879357, 'early_stopping_rounds': 30, 'max_depth': 14}. Best is trial 14 with value: 0.941886109321833.\n",
      "[I 2023-12-24 23:16:38,420] Trial 81 finished with value: 0.9399780337842314 and parameters: {'n_estimators': 47, 'learning_rate': 0.29970061678861415, 'subsample': 0.5239787121805092, 'early_stopping_rounds': 47, 'max_depth': 7}. Best is trial 14 with value: 0.941886109321833.\n",
      "[I 2023-12-24 23:16:41,362] Trial 82 finished with value: 0.9391068083296017 and parameters: {'n_estimators': 46, 'learning_rate': 0.27839635820960434, 'subsample': 0.5238202466726725, 'early_stopping_rounds': 27, 'max_depth': 8}. Best is trial 14 with value: 0.941886109321833.\n",
      "[I 2023-12-24 23:16:44,898] Trial 83 finished with value: 0.9397437647316123 and parameters: {'n_estimators': 49, 'learning_rate': 0.3056146600110635, 'subsample': 0.5554460818872815, 'early_stopping_rounds': 49, 'max_depth': 9}. Best is trial 14 with value: 0.941886109321833.\n",
      "[I 2023-12-24 23:16:47,599] Trial 84 finished with value: 0.9385955670069355 and parameters: {'n_estimators': 46, 'learning_rate': 0.2646394993257843, 'subsample': 0.5590121718478613, 'early_stopping_rounds': 46, 'max_depth': 7}. Best is trial 14 with value: 0.941886109321833.\n",
      "[I 2023-12-24 23:16:51,028] Trial 85 finished with value: 0.9384842193652306 and parameters: {'n_estimators': 42, 'learning_rate': 0.23478113185691574, 'subsample': 0.5381012633687314, 'early_stopping_rounds': 42, 'max_depth': 10}. Best is trial 14 with value: 0.941886109321833.\n",
      "[I 2023-12-24 23:16:53,060] Trial 86 finished with value: 0.937719153310936 and parameters: {'n_estimators': 49, 'learning_rate': 0.37294814784914954, 'subsample': 0.502432159815017, 'early_stopping_rounds': 43, 'max_depth': 4}. Best is trial 14 with value: 0.941886109321833.\n",
      "[I 2023-12-24 23:16:55,816] Trial 87 finished with value: 0.935496989622719 and parameters: {'n_estimators': 18, 'learning_rate': 0.2913783305842214, 'subsample': 0.8681948922633363, 'early_stopping_rounds': 37, 'max_depth': 12}. Best is trial 14 with value: 0.941886109321833.\n",
      "[I 2023-12-24 23:16:56,340] Trial 88 finished with value: 0.9305262552949994 and parameters: {'n_estimators': 9, 'learning_rate': 0.3255048872497153, 'subsample': 0.8277017689262769, 'early_stopping_rounds': 31, 'max_depth': 5}. Best is trial 14 with value: 0.941886109321833.\n",
      "[I 2023-12-24 23:17:02,294] Trial 89 finished with value: 0.9375563223510237 and parameters: {'n_estimators': 45, 'learning_rate': 0.2453435152243349, 'subsample': 0.8801196247034688, 'early_stopping_rounds': 22, 'max_depth': 11}. Best is trial 14 with value: 0.941886109321833.\n",
      "[I 2023-12-24 23:17:05,309] Trial 90 finished with value: 0.9401839670570619 and parameters: {'n_estimators': 48, 'learning_rate': 0.3485416450348374, 'subsample': 0.5335095673486158, 'early_stopping_rounds': 24, 'max_depth': 8}. Best is trial 14 with value: 0.941886109321833.\n",
      "[I 2023-12-24 23:17:09,757] Trial 91 finished with value: 0.939663147442636 and parameters: {'n_estimators': 47, 'learning_rate': 0.35724361806903776, 'subsample': 0.8408712878151979, 'early_stopping_rounds': 27, 'max_depth': 9}. Best is trial 14 with value: 0.941886109321833.\n",
      "[I 2023-12-24 23:17:13,444] Trial 92 finished with value: 0.9412048533204346 and parameters: {'n_estimators': 50, 'learning_rate': 0.3838282617721958, 'subsample': 0.7971934101130953, 'early_stopping_rounds': 28, 'max_depth': 7}. Best is trial 14 with value: 0.941886109321833.\n",
      "[I 2023-12-24 23:17:28,215] Trial 93 finished with value: 0.9202184169797571 and parameters: {'n_estimators': 50, 'learning_rate': 0.31621522304499594, 'subsample': 0.8104200395838979, 'early_stopping_rounds': 28, 'max_depth': 23}. Best is trial 14 with value: 0.941886109321833.\n",
      "[I 2023-12-24 23:17:31,165] Trial 94 finished with value: 0.9410256594454329 and parameters: {'n_estimators': 49, 'learning_rate': 0.3829557169568858, 'subsample': 0.797947742217079, 'early_stopping_rounds': 33, 'max_depth': 6}. Best is trial 14 with value: 0.941886109321833.\n",
      "[I 2023-12-24 23:17:34,091] Trial 95 finished with value: 0.9410144847717132 and parameters: {'n_estimators': 49, 'learning_rate': 0.41814507033625237, 'subsample': 0.775730521975677, 'early_stopping_rounds': 33, 'max_depth': 6}. Best is trial 14 with value: 0.941886109321833.\n",
      "[I 2023-12-24 23:17:37,047] Trial 96 finished with value: 0.9402410377121291 and parameters: {'n_estimators': 50, 'learning_rate': 0.42335817862779374, 'subsample': 0.772301736794019, 'early_stopping_rounds': 33, 'max_depth': 6}. Best is trial 14 with value: 0.941886109321833.\n",
      "[I 2023-12-24 23:17:39,084] Trial 97 finished with value: 0.9348827816636376 and parameters: {'n_estimators': 48, 'learning_rate': 0.45933044800609846, 'subsample': 0.7987554087315489, 'early_stopping_rounds': 29, 'max_depth': 3}. Best is trial 14 with value: 0.941886109321833.\n",
      "[I 2023-12-24 23:17:41,014] Trial 98 finished with value: 0.9277234076688593 and parameters: {'n_estimators': 50, 'learning_rate': 0.4356685740949292, 'subsample': 0.7819087685063691, 'early_stopping_rounds': 31, 'max_depth': 2}. Best is trial 14 with value: 0.941886109321833.\n",
      "[I 2023-12-24 23:17:42,508] Trial 99 finished with value: 0.9380883166391689 and parameters: {'n_estimators': 28, 'learning_rate': 0.38903599376375586, 'subsample': 0.7918564800500985, 'early_stopping_rounds': 35, 'max_depth': 5}. Best is trial 14 with value: 0.941886109321833.\n"
     ]
    },
    {
     "name": "stdout",
     "output_type": "stream",
     "text": [
      "Best trial: {'n_estimators': 50, 'learning_rate': 0.3170824019259023, 'subsample': 0.8558459450124554, 'early_stopping_rounds': 32, 'max_depth': 9}\n"
     ]
    }
   ],
   "source": [
    "study = optuna.create_study(direction='maximize')\n",
    "study.optimize(objective, n_trials=100)\n",
    "\n",
    "print('Best trial:', study.best_trial.params)"
   ]
  },
  {
   "cell_type": "code",
   "execution_count": 23,
   "metadata": {},
   "outputs": [
    {
     "data": {
      "application/vnd.plotly.v1+json": {
       "config": {
        "plotlyServerURL": "https://plot.ly"
       },
       "data": [
        {
         "cliponaxis": false,
         "hovertemplate": [
          "subsample (FloatDistribution): 0.006659465508092373<extra></extra>",
          "learning_rate (FloatDistribution): 0.008245952124093169<extra></extra>",
          "early_stopping_rounds (IntDistribution): 0.015364430936263027<extra></extra>",
          "n_estimators (IntDistribution): 0.12905763432871464<extra></extra>",
          "max_depth (IntDistribution): 0.8406725171028367<extra></extra>"
         ],
         "name": "Objective Value",
         "orientation": "h",
         "text": [
          "<0.01",
          "<0.01",
          "0.02",
          "0.13",
          "0.84"
         ],
         "textposition": "outside",
         "type": "bar",
         "x": [
          0.006659465508092373,
          0.008245952124093169,
          0.015364430936263027,
          0.12905763432871464,
          0.8406725171028367
         ],
         "y": [
          "subsample",
          "learning_rate",
          "early_stopping_rounds",
          "n_estimators",
          "max_depth"
         ]
        }
       ],
       "layout": {
        "template": {
         "data": {
          "bar": [
           {
            "error_x": {
             "color": "#2a3f5f"
            },
            "error_y": {
             "color": "#2a3f5f"
            },
            "marker": {
             "line": {
              "color": "#E5ECF6",
              "width": 0.5
             },
             "pattern": {
              "fillmode": "overlay",
              "size": 10,
              "solidity": 0.2
             }
            },
            "type": "bar"
           }
          ],
          "barpolar": [
           {
            "marker": {
             "line": {
              "color": "#E5ECF6",
              "width": 0.5
             },
             "pattern": {
              "fillmode": "overlay",
              "size": 10,
              "solidity": 0.2
             }
            },
            "type": "barpolar"
           }
          ],
          "carpet": [
           {
            "aaxis": {
             "endlinecolor": "#2a3f5f",
             "gridcolor": "white",
             "linecolor": "white",
             "minorgridcolor": "white",
             "startlinecolor": "#2a3f5f"
            },
            "baxis": {
             "endlinecolor": "#2a3f5f",
             "gridcolor": "white",
             "linecolor": "white",
             "minorgridcolor": "white",
             "startlinecolor": "#2a3f5f"
            },
            "type": "carpet"
           }
          ],
          "choropleth": [
           {
            "colorbar": {
             "outlinewidth": 0,
             "ticks": ""
            },
            "type": "choropleth"
           }
          ],
          "contour": [
           {
            "colorbar": {
             "outlinewidth": 0,
             "ticks": ""
            },
            "colorscale": [
             [
              0,
              "#0d0887"
             ],
             [
              0.1111111111111111,
              "#46039f"
             ],
             [
              0.2222222222222222,
              "#7201a8"
             ],
             [
              0.3333333333333333,
              "#9c179e"
             ],
             [
              0.4444444444444444,
              "#bd3786"
             ],
             [
              0.5555555555555556,
              "#d8576b"
             ],
             [
              0.6666666666666666,
              "#ed7953"
             ],
             [
              0.7777777777777778,
              "#fb9f3a"
             ],
             [
              0.8888888888888888,
              "#fdca26"
             ],
             [
              1,
              "#f0f921"
             ]
            ],
            "type": "contour"
           }
          ],
          "contourcarpet": [
           {
            "colorbar": {
             "outlinewidth": 0,
             "ticks": ""
            },
            "type": "contourcarpet"
           }
          ],
          "heatmap": [
           {
            "colorbar": {
             "outlinewidth": 0,
             "ticks": ""
            },
            "colorscale": [
             [
              0,
              "#0d0887"
             ],
             [
              0.1111111111111111,
              "#46039f"
             ],
             [
              0.2222222222222222,
              "#7201a8"
             ],
             [
              0.3333333333333333,
              "#9c179e"
             ],
             [
              0.4444444444444444,
              "#bd3786"
             ],
             [
              0.5555555555555556,
              "#d8576b"
             ],
             [
              0.6666666666666666,
              "#ed7953"
             ],
             [
              0.7777777777777778,
              "#fb9f3a"
             ],
             [
              0.8888888888888888,
              "#fdca26"
             ],
             [
              1,
              "#f0f921"
             ]
            ],
            "type": "heatmap"
           }
          ],
          "heatmapgl": [
           {
            "colorbar": {
             "outlinewidth": 0,
             "ticks": ""
            },
            "colorscale": [
             [
              0,
              "#0d0887"
             ],
             [
              0.1111111111111111,
              "#46039f"
             ],
             [
              0.2222222222222222,
              "#7201a8"
             ],
             [
              0.3333333333333333,
              "#9c179e"
             ],
             [
              0.4444444444444444,
              "#bd3786"
             ],
             [
              0.5555555555555556,
              "#d8576b"
             ],
             [
              0.6666666666666666,
              "#ed7953"
             ],
             [
              0.7777777777777778,
              "#fb9f3a"
             ],
             [
              0.8888888888888888,
              "#fdca26"
             ],
             [
              1,
              "#f0f921"
             ]
            ],
            "type": "heatmapgl"
           }
          ],
          "histogram": [
           {
            "marker": {
             "pattern": {
              "fillmode": "overlay",
              "size": 10,
              "solidity": 0.2
             }
            },
            "type": "histogram"
           }
          ],
          "histogram2d": [
           {
            "colorbar": {
             "outlinewidth": 0,
             "ticks": ""
            },
            "colorscale": [
             [
              0,
              "#0d0887"
             ],
             [
              0.1111111111111111,
              "#46039f"
             ],
             [
              0.2222222222222222,
              "#7201a8"
             ],
             [
              0.3333333333333333,
              "#9c179e"
             ],
             [
              0.4444444444444444,
              "#bd3786"
             ],
             [
              0.5555555555555556,
              "#d8576b"
             ],
             [
              0.6666666666666666,
              "#ed7953"
             ],
             [
              0.7777777777777778,
              "#fb9f3a"
             ],
             [
              0.8888888888888888,
              "#fdca26"
             ],
             [
              1,
              "#f0f921"
             ]
            ],
            "type": "histogram2d"
           }
          ],
          "histogram2dcontour": [
           {
            "colorbar": {
             "outlinewidth": 0,
             "ticks": ""
            },
            "colorscale": [
             [
              0,
              "#0d0887"
             ],
             [
              0.1111111111111111,
              "#46039f"
             ],
             [
              0.2222222222222222,
              "#7201a8"
             ],
             [
              0.3333333333333333,
              "#9c179e"
             ],
             [
              0.4444444444444444,
              "#bd3786"
             ],
             [
              0.5555555555555556,
              "#d8576b"
             ],
             [
              0.6666666666666666,
              "#ed7953"
             ],
             [
              0.7777777777777778,
              "#fb9f3a"
             ],
             [
              0.8888888888888888,
              "#fdca26"
             ],
             [
              1,
              "#f0f921"
             ]
            ],
            "type": "histogram2dcontour"
           }
          ],
          "mesh3d": [
           {
            "colorbar": {
             "outlinewidth": 0,
             "ticks": ""
            },
            "type": "mesh3d"
           }
          ],
          "parcoords": [
           {
            "line": {
             "colorbar": {
              "outlinewidth": 0,
              "ticks": ""
             }
            },
            "type": "parcoords"
           }
          ],
          "pie": [
           {
            "automargin": true,
            "type": "pie"
           }
          ],
          "scatter": [
           {
            "fillpattern": {
             "fillmode": "overlay",
             "size": 10,
             "solidity": 0.2
            },
            "type": "scatter"
           }
          ],
          "scatter3d": [
           {
            "line": {
             "colorbar": {
              "outlinewidth": 0,
              "ticks": ""
             }
            },
            "marker": {
             "colorbar": {
              "outlinewidth": 0,
              "ticks": ""
             }
            },
            "type": "scatter3d"
           }
          ],
          "scattercarpet": [
           {
            "marker": {
             "colorbar": {
              "outlinewidth": 0,
              "ticks": ""
             }
            },
            "type": "scattercarpet"
           }
          ],
          "scattergeo": [
           {
            "marker": {
             "colorbar": {
              "outlinewidth": 0,
              "ticks": ""
             }
            },
            "type": "scattergeo"
           }
          ],
          "scattergl": [
           {
            "marker": {
             "colorbar": {
              "outlinewidth": 0,
              "ticks": ""
             }
            },
            "type": "scattergl"
           }
          ],
          "scattermapbox": [
           {
            "marker": {
             "colorbar": {
              "outlinewidth": 0,
              "ticks": ""
             }
            },
            "type": "scattermapbox"
           }
          ],
          "scatterpolar": [
           {
            "marker": {
             "colorbar": {
              "outlinewidth": 0,
              "ticks": ""
             }
            },
            "type": "scatterpolar"
           }
          ],
          "scatterpolargl": [
           {
            "marker": {
             "colorbar": {
              "outlinewidth": 0,
              "ticks": ""
             }
            },
            "type": "scatterpolargl"
           }
          ],
          "scatterternary": [
           {
            "marker": {
             "colorbar": {
              "outlinewidth": 0,
              "ticks": ""
             }
            },
            "type": "scatterternary"
           }
          ],
          "surface": [
           {
            "colorbar": {
             "outlinewidth": 0,
             "ticks": ""
            },
            "colorscale": [
             [
              0,
              "#0d0887"
             ],
             [
              0.1111111111111111,
              "#46039f"
             ],
             [
              0.2222222222222222,
              "#7201a8"
             ],
             [
              0.3333333333333333,
              "#9c179e"
             ],
             [
              0.4444444444444444,
              "#bd3786"
             ],
             [
              0.5555555555555556,
              "#d8576b"
             ],
             [
              0.6666666666666666,
              "#ed7953"
             ],
             [
              0.7777777777777778,
              "#fb9f3a"
             ],
             [
              0.8888888888888888,
              "#fdca26"
             ],
             [
              1,
              "#f0f921"
             ]
            ],
            "type": "surface"
           }
          ],
          "table": [
           {
            "cells": {
             "fill": {
              "color": "#EBF0F8"
             },
             "line": {
              "color": "white"
             }
            },
            "header": {
             "fill": {
              "color": "#C8D4E3"
             },
             "line": {
              "color": "white"
             }
            },
            "type": "table"
           }
          ]
         },
         "layout": {
          "annotationdefaults": {
           "arrowcolor": "#2a3f5f",
           "arrowhead": 0,
           "arrowwidth": 1
          },
          "autotypenumbers": "strict",
          "coloraxis": {
           "colorbar": {
            "outlinewidth": 0,
            "ticks": ""
           }
          },
          "colorscale": {
           "diverging": [
            [
             0,
             "#8e0152"
            ],
            [
             0.1,
             "#c51b7d"
            ],
            [
             0.2,
             "#de77ae"
            ],
            [
             0.3,
             "#f1b6da"
            ],
            [
             0.4,
             "#fde0ef"
            ],
            [
             0.5,
             "#f7f7f7"
            ],
            [
             0.6,
             "#e6f5d0"
            ],
            [
             0.7,
             "#b8e186"
            ],
            [
             0.8,
             "#7fbc41"
            ],
            [
             0.9,
             "#4d9221"
            ],
            [
             1,
             "#276419"
            ]
           ],
           "sequential": [
            [
             0,
             "#0d0887"
            ],
            [
             0.1111111111111111,
             "#46039f"
            ],
            [
             0.2222222222222222,
             "#7201a8"
            ],
            [
             0.3333333333333333,
             "#9c179e"
            ],
            [
             0.4444444444444444,
             "#bd3786"
            ],
            [
             0.5555555555555556,
             "#d8576b"
            ],
            [
             0.6666666666666666,
             "#ed7953"
            ],
            [
             0.7777777777777778,
             "#fb9f3a"
            ],
            [
             0.8888888888888888,
             "#fdca26"
            ],
            [
             1,
             "#f0f921"
            ]
           ],
           "sequentialminus": [
            [
             0,
             "#0d0887"
            ],
            [
             0.1111111111111111,
             "#46039f"
            ],
            [
             0.2222222222222222,
             "#7201a8"
            ],
            [
             0.3333333333333333,
             "#9c179e"
            ],
            [
             0.4444444444444444,
             "#bd3786"
            ],
            [
             0.5555555555555556,
             "#d8576b"
            ],
            [
             0.6666666666666666,
             "#ed7953"
            ],
            [
             0.7777777777777778,
             "#fb9f3a"
            ],
            [
             0.8888888888888888,
             "#fdca26"
            ],
            [
             1,
             "#f0f921"
            ]
           ]
          },
          "colorway": [
           "#636efa",
           "#EF553B",
           "#00cc96",
           "#ab63fa",
           "#FFA15A",
           "#19d3f3",
           "#FF6692",
           "#B6E880",
           "#FF97FF",
           "#FECB52"
          ],
          "font": {
           "color": "#2a3f5f"
          },
          "geo": {
           "bgcolor": "white",
           "lakecolor": "white",
           "landcolor": "#E5ECF6",
           "showlakes": true,
           "showland": true,
           "subunitcolor": "white"
          },
          "hoverlabel": {
           "align": "left"
          },
          "hovermode": "closest",
          "mapbox": {
           "style": "light"
          },
          "paper_bgcolor": "white",
          "plot_bgcolor": "#E5ECF6",
          "polar": {
           "angularaxis": {
            "gridcolor": "white",
            "linecolor": "white",
            "ticks": ""
           },
           "bgcolor": "#E5ECF6",
           "radialaxis": {
            "gridcolor": "white",
            "linecolor": "white",
            "ticks": ""
           }
          },
          "scene": {
           "xaxis": {
            "backgroundcolor": "#E5ECF6",
            "gridcolor": "white",
            "gridwidth": 2,
            "linecolor": "white",
            "showbackground": true,
            "ticks": "",
            "zerolinecolor": "white"
           },
           "yaxis": {
            "backgroundcolor": "#E5ECF6",
            "gridcolor": "white",
            "gridwidth": 2,
            "linecolor": "white",
            "showbackground": true,
            "ticks": "",
            "zerolinecolor": "white"
           },
           "zaxis": {
            "backgroundcolor": "#E5ECF6",
            "gridcolor": "white",
            "gridwidth": 2,
            "linecolor": "white",
            "showbackground": true,
            "ticks": "",
            "zerolinecolor": "white"
           }
          },
          "shapedefaults": {
           "line": {
            "color": "#2a3f5f"
           }
          },
          "ternary": {
           "aaxis": {
            "gridcolor": "white",
            "linecolor": "white",
            "ticks": ""
           },
           "baxis": {
            "gridcolor": "white",
            "linecolor": "white",
            "ticks": ""
           },
           "bgcolor": "#E5ECF6",
           "caxis": {
            "gridcolor": "white",
            "linecolor": "white",
            "ticks": ""
           }
          },
          "title": {
           "x": 0.05
          },
          "xaxis": {
           "automargin": true,
           "gridcolor": "white",
           "linecolor": "white",
           "ticks": "",
           "title": {
            "standoff": 15
           },
           "zerolinecolor": "white",
           "zerolinewidth": 2
          },
          "yaxis": {
           "automargin": true,
           "gridcolor": "white",
           "linecolor": "white",
           "ticks": "",
           "title": {
            "standoff": 15
           },
           "zerolinecolor": "white",
           "zerolinewidth": 2
          }
         }
        },
        "title": {
         "text": "Hyperparameter Importances"
        },
        "xaxis": {
         "title": {
          "text": "Hyperparameter Importance"
         }
        },
        "yaxis": {
         "title": {
          "text": "Hyperparameter"
         }
        }
       }
      }
     },
     "metadata": {},
     "output_type": "display_data"
    }
   ],
   "source": [
    "optuna.visualization.plot_optimization_history(study)\n",
    "optuna.visualization.plot_param_importances(study)"
   ]
  },
  {
   "cell_type": "markdown",
   "metadata": {
    "pycharm": {
     "name": "#%% md\n"
    }
   },
   "source": [
    "## Задание 4. Интерпретация бустингового (2 балл)\n",
    "\n",
    "Постройте калибровочную кривую для вашей лучшей модели бустинга. Насколько хорошо бустинг оценивает вероятности? Постройте также калибровочную кривую для логистической регрессии, сравните их между собой. Проанализируйте полученные результаты."
   ]
  },
  {
   "cell_type": "code",
   "execution_count": 24,
   "metadata": {
    "pycharm": {
     "name": "#%%\n"
    }
   },
   "outputs": [
    {
     "data": {
      "image/png": "[encoded data removed]",
      "text/plain": [
       "<Figure size 1000x600 with 1 Axes>"
      ]
     },
     "metadata": {},
     "output_type": "display_data"
    }
   ],
   "source": [
    "best_boosting_model = Boosting(base_model_params={'max_depth': study.best_trial.params['max_depth'], 'random_state': 42}, \n",
    "                        n_estimators=study.best_trial.params['n_estimators'],\n",
    "                        learning_rate=study.best_trial.params['learning_rate'],\n",
    "                        subsample=study.best_trial.params['subsample'],\n",
    "                        early_stopping_rounds=study.best_trial.params['early_stopping_rounds'])\n",
    "\n",
    "best_boosting_model.fit(x_train, y_train, x_valid, y_valid)\n",
    "best_score = roc_auc_score(y_test, best_boosting_model.predict_proba(x_test)[:, 1])\n",
    "log_reg = LogisticRegression().fit(x_train, y_train)\n",
    "\n",
    "prob_boosting = best_boosting_model.predict_proba(x_test)[:, 1]\n",
    "prob_log_reg = log_reg.predict_proba(x_test)[:, 1]\n",
    "\n",
    "prob_true_boosting, prob_pred_boosting = calibration_curve(y_test, prob_boosting, n_bins=10)\n",
    "prob_true_log_reg, prob_pred_log_reg = calibration_curve(y_test, prob_log_reg, n_bins=10)\n",
    "\n",
    "plt.figure(figsize=(10, 6))\n",
    "plt.plot(prob_pred_boosting, prob_true_boosting, marker='o', label='Boosting')\n",
    "plt.plot(prob_pred_log_reg, prob_true_log_reg, marker='o', label='Logistic Regression')\n",
    "plt.plot([0, 1], [0, 1], linestyle='--', color='grey', label='Ideally Calibrated')\n",
    "plt.xlabel('Mean Predicted Probability')\n",
    "plt.ylabel('Fraction of Positives')\n",
    "plt.title('Calibration Curves')\n",
    "plt.legend()\n",
    "plt.show()\n"
   ]
  },
  {
   "cell_type": "markdown",
   "metadata": {},
   "source": [
    "__Интуиция:__ Мы можем видеть, что градиентный бустинг хуже предсказывает вероятности - он выдает большие вероятнсти чем нужно как для положительного, так и для отрицательного класса, т.е. он слищком уверен в своих прогнозах. Так как функция потерь у бустинга аналогична логистической регрессии и также используется сигмоида,  то единственным разумным объяснением для такого факта является то, что модели деревьев решений, лежащих в основе написанного бустинг, склонны к переробучению и к излишней уверенности в классах. "
   ]
  },
  {
   "cell_type": "markdown",
   "metadata": {
    "pycharm": {
     "name": "#%% md\n"
    }
   },
   "source": [
    "Теперь попробуем оценить важность признаков для бустинга.\n",
    "\n",
    "Поскольку наша базовая модель - это дерево из `sklearn`, мы можем вычислить важность признака отдельно для каждого дерева и усреднить (воспользуйтесь `feature_importances_` у `DecisionTreeRegressor`), после этого нормировать значения, чтобы они суммировались в единицу (обратите внимание, что они должны быть неотрицательными - иначе вы что-то сделали не так).\n",
    "\n",
    "Допишите в вашей реализации бустинга функцию `feature_importances_` чтобы она возвращала описанные выше важности признаков.\n",
    "На соседнем графике нарисуйте важность признаков для логистической регрессии, для этого используйте модули весов. Сравните графики.\n",
    "Нарисуйте столбчатую диаграмму важности признаков.  Проанализируйте полученные результаты."
   ]
  },
  {
   "cell_type": "code",
   "execution_count": 25,
   "metadata": {
    "pycharm": {
     "name": "#%%\n"
    }
   },
   "outputs": [
    {
     "data": {
      "image/png": "[encoded data removed]",
      "text/plain": [
       "<Figure size 2400x600 with 2 Axes>"
      ]
     },
     "metadata": {},
     "output_type": "display_data"
    }
   ],
   "source": [
    "feature_importances = best_boosting_model.feature_importances_\n",
    "\n",
    "logistic_model = LogisticRegression().fit(np.random.rand(100, 10), np.random.randint(0, 2, 100))\n",
    "logistic_importances = np.abs(log_reg.coef_[0])\n",
    "\n",
    "# Создание графиков\n",
    "plt.figure(figsize=(24, 6))\n",
    "\n",
    "# График для бустинга\n",
    "plt.subplot(1, 2, 1)\n",
    "plt.hist(feature_importances, bins=50, log=True, color='skyblue', edgecolor='black')\n",
    "plt.title('Feature Importances for Boosting')\n",
    "plt.xlabel('Feature Importance')\n",
    "plt.ylabel('Frequency (log scale)')\n",
    "plt.grid(True, which=\"both\", linestyle='--', linewidth=0.5)\n",
    "\n",
    "# График для логистической регрессии\n",
    "plt.subplot(1, 2, 2)\n",
    "plt.hist(logistic_importances, bins=50, log=True, color='orange', edgecolor='black')\n",
    "plt.title('Feature Importances for Logistic Regression')\n",
    "plt.xlabel('Feature Importance')\n",
    "plt.ylabel('Frequency (log scale)')\n",
    "plt.grid(True, which=\"both\", linestyle='--', linewidth=0.5)\n",
    "\n",
    "plt.show()"
   ]
  },
  {
   "cell_type": "markdown",
   "metadata": {},
   "source": [
    "___\n",
    "Можем заметить, что в датасете очень много признаков, не предсказывающих целевую переменную, у которых околонулевая важность. И есть несколько важных, поэтому значительный объем признаков можем убрать. Этот вывод можно сделать исходя из модели бустинга. Если же сравнивать важность фичей, которую показала модель бустинга и логичтисеской регрессии, то можно заметить, что, с одной стороны они похожи, так как примерно в одинаковых участках наблюдаются выбросы и скопления, однако все же для лоргистической регрессии важность признаков более равномерно распределена, в то время как бустинг очень категорично делит признаки.\n",
    "___"
   ]
  },
  {
   "cell_type": "markdown",
   "metadata": {
    "pycharm": {
     "name": "#%% md\n"
    }
   },
   "source": [
    "Кстати, чаще всего излишние признаки могут вредить качеству бустинга. Попробуйте отфильтровать на основании диаграммы хвост наименее важных признаков и снова обучить модель (с теми же гиперпараметрами). Стало ли лучше?"
   ]
  },
  {
   "cell_type": "code",
   "execution_count": 29,
   "metadata": {},
   "outputs": [
    {
     "name": "stdout",
     "output_type": "stream",
     "text": [
      "0.9382103938922066 0.9382922677969464\n"
     ]
    }
   ],
   "source": [
    "quantile_20 = np.quantile(feature_importances, 0.2)\n",
    "important_feature_indices = np.where(feature_importances >= quantile_20)[0]\n",
    "\n",
    "shortened_parametres_boosting = Boosting(base_model_params={'max_depth': study.best_trial.params['max_depth'], 'random_state': 42}, \n",
    "                        n_estimators=study.best_trial.params['n_estimators'],\n",
    "                        learning_rate=study.best_trial.params['learning_rate'],\n",
    "                        subsample=study.best_trial.params['subsample'],\n",
    "                        early_stopping_rounds=study.best_trial.params['early_stopping_rounds'])\n",
    "\n",
    "shortened_parametres_boosting.fit(\n",
    "    x_train[:, important_feature_indices], \n",
    "    y_train, \n",
    "    x_valid[:, important_feature_indices], \n",
    "    y_valid\n",
    ")\n",
    "\n",
    "new_score = roc_auc_score(\n",
    "    y_test, \n",
    "    shortened_parametres_boosting.predict_proba(x_test[:, important_feature_indices])[:, 1]\n",
    ")\n",
    "\n",
    "print(best_score, new_score)"
   ]
  },
  {
   "cell_type": "markdown",
   "metadata": {},
   "source": [
    "___\n",
    "Да, стало лучше, хоть я и взял очень маленткий квантиль\n",
    "___"
   ]
  },
  {
   "cell_type": "markdown",
   "metadata": {
    "pycharm": {
     "name": "#%% md\n"
    }
   },
   "source": [
    "## Задание 5 (бонус). Блендинговое (1 балл)\n",
    "\n",
    "Реализуйте блендинг над вашей лучшей моделью и логистической регрессией. Улучшилось ли качество?"
   ]
  },
  {
   "cell_type": "markdown",
   "metadata": {},
   "source": [
    "__биз белндинга кароче__\n",
    "\n",
    "\n",
    "можно плюс балл за честность"
   ]
  },
  {
   "cell_type": "markdown",
   "metadata": {
    "collapsed": false,
    "pycharm": {
     "name": "#%% md\n"
    }
   },
   "source": [
    "## Задание 6 (бонус). Катбустовое (1 балл)\n",
    "\n",
    "Запустите [CatBoost](https://catboost.ai/en/docs/concepts/python-quickstart) на наших данных, сравните с вашей реализацией. Где получилось лучше?"
   ]
  },
  {
   "cell_type": "code",
   "execution_count": 32,
   "metadata": {
    "collapsed": false,
    "pycharm": {
     "name": "#%%\n"
    }
   },
   "outputs": [
    {
     "name": "stdout",
     "output_type": "stream",
     "text": [
      "Requirement already satisfied: catboost in c:\\users\\rusta\\anaconda3\\lib\\site-packages (1.2.2)\n",
      "Requirement already satisfied: graphviz in c:\\users\\rusta\\anaconda3\\lib\\site-packages (from catboost) (0.20.1)\n",
      "Requirement already satisfied: plotly in c:\\users\\rusta\\anaconda3\\lib\\site-packages (from catboost) (5.9.0)\n",
      "Requirement already satisfied: pandas>=0.24 in c:\\users\\rusta\\anaconda3\\lib\\site-packages (from catboost) (1.4.4)\n",
      "Requirement already satisfied: six in c:\\users\\rusta\\anaconda3\\lib\\site-packages (from catboost) (1.16.0)\n",
      "Requirement already satisfied: numpy>=1.16.0 in c:\\users\\rusta\\anaconda3\\lib\\site-packages (from catboost) (1.21.5)\n",
      "Requirement already satisfied: matplotlib in c:\\users\\rusta\\anaconda3\\lib\\site-packages (from catboost) (3.5.2)\n",
      "Requirement already satisfied: scipy in c:\\users\\rusta\\anaconda3\\lib\\site-packages (from catboost) (1.9.1)\n",
      "Requirement already satisfied: python-dateutil>=2.8.1 in c:\\users\\rusta\\anaconda3\\lib\\site-packages (from pandas>=0.24->catboost) (2.8.2)\n",
      "Requirement already satisfied: pytz>=2020.1 in c:\\users\\rusta\\anaconda3\\lib\\site-packages (from pandas>=0.24->catboost) (2022.1)\n",
      "Requirement already satisfied: cycler>=0.10 in c:\\users\\rusta\\anaconda3\\lib\\site-packages (from matplotlib->catboost) (0.11.0)\n",
      "Requirement already satisfied: pillow>=6.2.0 in c:\\users\\rusta\\anaconda3\\lib\\site-packages (from matplotlib->catboost) (9.2.0)\n",
      "Requirement already satisfied: fonttools>=4.22.0 in c:\\users\\rusta\\anaconda3\\lib\\site-packages (from matplotlib->catboost) (4.25.0)\n",
      "Requirement already satisfied: kiwisolver>=1.0.1 in c:\\users\\rusta\\anaconda3\\lib\\site-packages (from matplotlib->catboost) (1.4.2)\n",
      "Requirement already satisfied: packaging>=20.0 in c:\\users\\rusta\\anaconda3\\lib\\site-packages (from matplotlib->catboost) (21.3)\n",
      "Requirement already satisfied: pyparsing>=2.2.1 in c:\\users\\rusta\\anaconda3\\lib\\site-packages (from matplotlib->catboost) (3.0.9)\n",
      "Requirement already satisfied: tenacity>=6.2.0 in c:\\users\\rusta\\anaconda3\\lib\\site-packages (from plotly->catboost) (8.0.1)\n"
     ]
    }
   ],
   "source": [
    "!pip install catboost\n",
    "from catboost import CatBoostClassifier"
   ]
  },
  {
   "cell_type": "code",
   "execution_count": 33,
   "metadata": {},
   "outputs": [
    {
     "name": "stdout",
     "output_type": "stream",
     "text": [
      "Learning rate set to 0.036078\n",
      "0:\tlearn: 0.6491463\ttotal: 180ms\tremaining: 2m 59s\n",
      "1:\tlearn: 0.6106105\ttotal: 185ms\tremaining: 1m 32s\n",
      "2:\tlearn: 0.5804629\ttotal: 190ms\tremaining: 1m 3s\n",
      "3:\tlearn: 0.5522558\ttotal: 197ms\tremaining: 49s\n",
      "4:\tlearn: 0.5262196\ttotal: 203ms\tremaining: 40.4s\n",
      "5:\tlearn: 0.5008075\ttotal: 208ms\tremaining: 34.4s\n",
      "6:\tlearn: 0.4812963\ttotal: 215ms\tremaining: 30.5s\n",
      "7:\tlearn: 0.4620364\ttotal: 220ms\tremaining: 27.3s\n",
      "8:\tlearn: 0.4461814\ttotal: 225ms\tremaining: 24.8s\n",
      "9:\tlearn: 0.4303347\ttotal: 231ms\tremaining: 22.9s\n",
      "10:\tlearn: 0.4142074\ttotal: 236ms\tremaining: 21.2s\n",
      "11:\tlearn: 0.4011998\ttotal: 242ms\tremaining: 19.9s\n",
      "12:\tlearn: 0.3907487\ttotal: 248ms\tremaining: 18.8s\n",
      "13:\tlearn: 0.3808040\ttotal: 252ms\tremaining: 17.8s\n",
      "14:\tlearn: 0.3710194\ttotal: 258ms\tremaining: 16.9s\n",
      "15:\tlearn: 0.3641415\ttotal: 264ms\tremaining: 16.2s\n",
      "16:\tlearn: 0.3554514\ttotal: 269ms\tremaining: 15.5s\n",
      "17:\tlearn: 0.3492319\ttotal: 274ms\tremaining: 15s\n",
      "18:\tlearn: 0.3419545\ttotal: 280ms\tremaining: 14.5s\n",
      "19:\tlearn: 0.3378271\ttotal: 285ms\tremaining: 14s\n",
      "20:\tlearn: 0.3330131\ttotal: 291ms\tremaining: 13.6s\n",
      "21:\tlearn: 0.3283114\ttotal: 296ms\tremaining: 13.2s\n",
      "22:\tlearn: 0.3239311\ttotal: 301ms\tremaining: 12.8s\n",
      "23:\tlearn: 0.3201538\ttotal: 306ms\tremaining: 12.5s\n",
      "24:\tlearn: 0.3157882\ttotal: 312ms\tremaining: 12.2s\n",
      "25:\tlearn: 0.3126069\ttotal: 317ms\tremaining: 11.9s\n",
      "26:\tlearn: 0.3092979\ttotal: 322ms\tremaining: 11.6s\n",
      "27:\tlearn: 0.3057002\ttotal: 328ms\tremaining: 11.4s\n",
      "28:\tlearn: 0.3022073\ttotal: 333ms\tremaining: 11.1s\n",
      "29:\tlearn: 0.2991090\ttotal: 338ms\tremaining: 10.9s\n",
      "30:\tlearn: 0.2959412\ttotal: 344ms\tremaining: 10.8s\n",
      "31:\tlearn: 0.2933313\ttotal: 349ms\tremaining: 10.6s\n",
      "32:\tlearn: 0.2905583\ttotal: 354ms\tremaining: 10.4s\n",
      "33:\tlearn: 0.2879579\ttotal: 361ms\tremaining: 10.3s\n",
      "34:\tlearn: 0.2855462\ttotal: 366ms\tremaining: 10.1s\n",
      "35:\tlearn: 0.2836845\ttotal: 371ms\tremaining: 9.94s\n",
      "36:\tlearn: 0.2817867\ttotal: 377ms\tremaining: 9.82s\n",
      "37:\tlearn: 0.2802803\ttotal: 382ms\tremaining: 9.68s\n",
      "38:\tlearn: 0.2789353\ttotal: 388ms\tremaining: 9.57s\n",
      "39:\tlearn: 0.2775255\ttotal: 396ms\tremaining: 9.49s\n",
      "40:\tlearn: 0.2758793\ttotal: 401ms\tremaining: 9.38s\n",
      "41:\tlearn: 0.2738898\ttotal: 409ms\tremaining: 9.32s\n",
      "42:\tlearn: 0.2723049\ttotal: 414ms\tremaining: 9.21s\n",
      "43:\tlearn: 0.2712591\ttotal: 419ms\tremaining: 9.1s\n",
      "44:\tlearn: 0.2696153\ttotal: 425ms\tremaining: 9.02s\n",
      "45:\tlearn: 0.2678187\ttotal: 430ms\tremaining: 8.91s\n",
      "46:\tlearn: 0.2662825\ttotal: 435ms\tremaining: 8.82s\n",
      "47:\tlearn: 0.2651203\ttotal: 441ms\tremaining: 8.74s\n",
      "48:\tlearn: 0.2637659\ttotal: 446ms\tremaining: 8.65s\n",
      "49:\tlearn: 0.2622806\ttotal: 451ms\tremaining: 8.57s\n",
      "50:\tlearn: 0.2609588\ttotal: 456ms\tremaining: 8.49s\n",
      "51:\tlearn: 0.2596496\ttotal: 462ms\tremaining: 8.41s\n",
      "52:\tlearn: 0.2586389\ttotal: 466ms\tremaining: 8.33s\n",
      "53:\tlearn: 0.2575308\ttotal: 472ms\tremaining: 8.27s\n",
      "54:\tlearn: 0.2563465\ttotal: 477ms\tremaining: 8.2s\n",
      "55:\tlearn: 0.2553938\ttotal: 482ms\tremaining: 8.12s\n",
      "56:\tlearn: 0.2542418\ttotal: 488ms\tremaining: 8.08s\n",
      "57:\tlearn: 0.2530719\ttotal: 494ms\tremaining: 8.02s\n",
      "58:\tlearn: 0.2521842\ttotal: 499ms\tremaining: 7.95s\n",
      "59:\tlearn: 0.2512768\ttotal: 504ms\tremaining: 7.9s\n",
      "60:\tlearn: 0.2504819\ttotal: 509ms\tremaining: 7.84s\n",
      "61:\tlearn: 0.2497338\ttotal: 514ms\tremaining: 7.78s\n",
      "62:\tlearn: 0.2492157\ttotal: 520ms\tremaining: 7.74s\n",
      "63:\tlearn: 0.2486779\ttotal: 526ms\tremaining: 7.69s\n",
      "64:\tlearn: 0.2478278\ttotal: 531ms\tremaining: 7.63s\n",
      "65:\tlearn: 0.2471226\ttotal: 537ms\tremaining: 7.6s\n",
      "66:\tlearn: 0.2460823\ttotal: 542ms\tremaining: 7.54s\n",
      "67:\tlearn: 0.2452864\ttotal: 546ms\tremaining: 7.49s\n",
      "68:\tlearn: 0.2446292\ttotal: 552ms\tremaining: 7.45s\n",
      "69:\tlearn: 0.2441226\ttotal: 557ms\tremaining: 7.4s\n",
      "70:\tlearn: 0.2435060\ttotal: 562ms\tremaining: 7.36s\n",
      "71:\tlearn: 0.2430224\ttotal: 568ms\tremaining: 7.32s\n",
      "72:\tlearn: 0.2425474\ttotal: 573ms\tremaining: 7.28s\n",
      "73:\tlearn: 0.2417466\ttotal: 578ms\tremaining: 7.23s\n",
      "74:\tlearn: 0.2411925\ttotal: 585ms\tremaining: 7.21s\n",
      "75:\tlearn: 0.2405901\ttotal: 590ms\tremaining: 7.17s\n",
      "76:\tlearn: 0.2401959\ttotal: 595ms\tremaining: 7.13s\n",
      "77:\tlearn: 0.2396340\ttotal: 602ms\tremaining: 7.11s\n",
      "78:\tlearn: 0.2391089\ttotal: 607ms\tremaining: 7.07s\n",
      "79:\tlearn: 0.2386577\ttotal: 612ms\tremaining: 7.03s\n",
      "80:\tlearn: 0.2381253\ttotal: 618ms\tremaining: 7.01s\n",
      "81:\tlearn: 0.2376817\ttotal: 623ms\tremaining: 6.97s\n",
      "82:\tlearn: 0.2371225\ttotal: 628ms\tremaining: 6.93s\n",
      "83:\tlearn: 0.2367069\ttotal: 633ms\tremaining: 6.91s\n",
      "84:\tlearn: 0.2362258\ttotal: 638ms\tremaining: 6.87s\n",
      "85:\tlearn: 0.2358507\ttotal: 643ms\tremaining: 6.84s\n",
      "86:\tlearn: 0.2353571\ttotal: 649ms\tremaining: 6.81s\n",
      "87:\tlearn: 0.2350400\ttotal: 654ms\tremaining: 6.78s\n",
      "88:\tlearn: 0.2345352\ttotal: 659ms\tremaining: 6.74s\n",
      "89:\tlearn: 0.2341770\ttotal: 664ms\tremaining: 6.72s\n",
      "90:\tlearn: 0.2338437\ttotal: 669ms\tremaining: 6.68s\n",
      "91:\tlearn: 0.2334750\ttotal: 674ms\tremaining: 6.65s\n",
      "92:\tlearn: 0.2331382\ttotal: 680ms\tremaining: 6.63s\n",
      "93:\tlearn: 0.2327620\ttotal: 684ms\tremaining: 6.6s\n",
      "94:\tlearn: 0.2323787\ttotal: 689ms\tremaining: 6.57s\n",
      "95:\tlearn: 0.2318464\ttotal: 694ms\tremaining: 6.54s\n",
      "96:\tlearn: 0.2314195\ttotal: 700ms\tremaining: 6.51s\n",
      "97:\tlearn: 0.2310564\ttotal: 705ms\tremaining: 6.49s\n",
      "98:\tlearn: 0.2307503\ttotal: 709ms\tremaining: 6.46s\n",
      "99:\tlearn: 0.2303961\ttotal: 715ms\tremaining: 6.44s\n",
      "100:\tlearn: 0.2300229\ttotal: 720ms\tremaining: 6.41s\n",
      "101:\tlearn: 0.2297031\ttotal: 725ms\tremaining: 6.38s\n",
      "102:\tlearn: 0.2294196\ttotal: 731ms\tremaining: 6.36s\n",
      "103:\tlearn: 0.2291325\ttotal: 736ms\tremaining: 6.34s\n",
      "104:\tlearn: 0.2288106\ttotal: 740ms\tremaining: 6.31s\n",
      "105:\tlearn: 0.2285878\ttotal: 747ms\tremaining: 6.3s\n",
      "106:\tlearn: 0.2282590\ttotal: 752ms\tremaining: 6.28s\n",
      "107:\tlearn: 0.2279335\ttotal: 757ms\tremaining: 6.25s\n",
      "108:\tlearn: 0.2276413\ttotal: 763ms\tremaining: 6.24s\n",
      "109:\tlearn: 0.2272001\ttotal: 768ms\tremaining: 6.21s\n",
      "110:\tlearn: 0.2268866\ttotal: 772ms\tremaining: 6.19s\n",
      "111:\tlearn: 0.2265965\ttotal: 779ms\tremaining: 6.18s\n",
      "112:\tlearn: 0.2262776\ttotal: 785ms\tremaining: 6.16s\n",
      "113:\tlearn: 0.2260244\ttotal: 789ms\tremaining: 6.13s\n",
      "114:\tlearn: 0.2257123\ttotal: 796ms\tremaining: 6.12s\n",
      "115:\tlearn: 0.2253910\ttotal: 801ms\tremaining: 6.1s\n",
      "116:\tlearn: 0.2251471\ttotal: 806ms\tremaining: 6.08s\n",
      "117:\tlearn: 0.2249142\ttotal: 812ms\tremaining: 6.07s\n",
      "118:\tlearn: 0.2246985\ttotal: 817ms\tremaining: 6.05s\n",
      "119:\tlearn: 0.2245074\ttotal: 821ms\tremaining: 6.02s\n",
      "120:\tlearn: 0.2240694\ttotal: 828ms\tremaining: 6.01s\n",
      "121:\tlearn: 0.2237190\ttotal: 834ms\tremaining: 6s\n",
      "122:\tlearn: 0.2234510\ttotal: 841ms\tremaining: 5.99s\n",
      "123:\tlearn: 0.2231866\ttotal: 847ms\tremaining: 5.98s\n",
      "124:\tlearn: 0.2229539\ttotal: 852ms\tremaining: 5.96s\n",
      "125:\tlearn: 0.2226710\ttotal: 857ms\tremaining: 5.95s\n",
      "126:\tlearn: 0.2224127\ttotal: 863ms\tremaining: 5.93s\n",
      "127:\tlearn: 0.2220662\ttotal: 868ms\tremaining: 5.91s\n",
      "128:\tlearn: 0.2217771\ttotal: 873ms\tremaining: 5.89s\n",
      "129:\tlearn: 0.2214827\ttotal: 879ms\tremaining: 5.88s\n",
      "130:\tlearn: 0.2212394\ttotal: 884ms\tremaining: 5.87s\n",
      "131:\tlearn: 0.2210140\ttotal: 890ms\tremaining: 5.85s\n",
      "132:\tlearn: 0.2207578\ttotal: 895ms\tremaining: 5.84s\n",
      "133:\tlearn: 0.2205363\ttotal: 900ms\tremaining: 5.82s\n",
      "134:\tlearn: 0.2202805\ttotal: 906ms\tremaining: 5.8s\n",
      "135:\tlearn: 0.2198814\ttotal: 912ms\tremaining: 5.79s\n",
      "136:\tlearn: 0.2196995\ttotal: 917ms\tremaining: 5.78s\n",
      "137:\tlearn: 0.2194758\ttotal: 923ms\tremaining: 5.76s\n",
      "138:\tlearn: 0.2193014\ttotal: 929ms\tremaining: 5.75s\n",
      "139:\tlearn: 0.2190886\ttotal: 934ms\tremaining: 5.74s\n",
      "140:\tlearn: 0.2189097\ttotal: 939ms\tremaining: 5.72s\n",
      "141:\tlearn: 0.2187230\ttotal: 945ms\tremaining: 5.71s\n",
      "142:\tlearn: 0.2184286\ttotal: 950ms\tremaining: 5.69s\n",
      "143:\tlearn: 0.2181666\ttotal: 956ms\tremaining: 5.68s\n",
      "144:\tlearn: 0.2179187\ttotal: 961ms\tremaining: 5.67s\n",
      "145:\tlearn: 0.2177321\ttotal: 966ms\tremaining: 5.65s\n",
      "146:\tlearn: 0.2174924\ttotal: 972ms\tremaining: 5.64s\n",
      "147:\tlearn: 0.2173069\ttotal: 977ms\tremaining: 5.63s\n",
      "148:\tlearn: 0.2171508\ttotal: 982ms\tremaining: 5.61s\n",
      "149:\tlearn: 0.2169305\ttotal: 987ms\tremaining: 5.59s\n",
      "150:\tlearn: 0.2167165\ttotal: 993ms\tremaining: 5.58s\n",
      "151:\tlearn: 0.2164227\ttotal: 997ms\tremaining: 5.56s\n",
      "152:\tlearn: 0.2162450\ttotal: 1s\tremaining: 5.55s\n",
      "153:\tlearn: 0.2160502\ttotal: 1.01s\tremaining: 5.54s\n",
      "154:\tlearn: 0.2159059\ttotal: 1.01s\tremaining: 5.52s\n",
      "155:\tlearn: 0.2157259\ttotal: 1.02s\tremaining: 5.51s\n",
      "156:\tlearn: 0.2155017\ttotal: 1.02s\tremaining: 5.5s\n",
      "157:\tlearn: 0.2152952\ttotal: 1.03s\tremaining: 5.48s\n",
      "158:\tlearn: 0.2151337\ttotal: 1.03s\tremaining: 5.47s\n",
      "159:\tlearn: 0.2149782\ttotal: 1.04s\tremaining: 5.46s\n",
      "160:\tlearn: 0.2148205\ttotal: 1.04s\tremaining: 5.44s\n",
      "161:\tlearn: 0.2145281\ttotal: 1.05s\tremaining: 5.42s\n",
      "162:\tlearn: 0.2143882\ttotal: 1.05s\tremaining: 5.41s\n",
      "163:\tlearn: 0.2142611\ttotal: 1.06s\tremaining: 5.4s\n",
      "164:\tlearn: 0.2140180\ttotal: 1.06s\tremaining: 5.38s\n",
      "165:\tlearn: 0.2138142\ttotal: 1.07s\tremaining: 5.37s\n",
      "166:\tlearn: 0.2136149\ttotal: 1.07s\tremaining: 5.36s\n",
      "167:\tlearn: 0.2133923\ttotal: 1.08s\tremaining: 5.35s\n",
      "168:\tlearn: 0.2132505\ttotal: 1.08s\tremaining: 5.34s\n",
      "169:\tlearn: 0.2131111\ttotal: 1.09s\tremaining: 5.32s\n",
      "170:\tlearn: 0.2128182\ttotal: 1.09s\tremaining: 5.31s\n",
      "171:\tlearn: 0.2126905\ttotal: 1.1s\tremaining: 5.3s\n",
      "172:\tlearn: 0.2125587\ttotal: 1.1s\tremaining: 5.28s\n",
      "173:\tlearn: 0.2124090\ttotal: 1.11s\tremaining: 5.27s\n",
      "174:\tlearn: 0.2122404\ttotal: 1.11s\tremaining: 5.25s\n",
      "175:\tlearn: 0.2120657\ttotal: 1.12s\tremaining: 5.24s\n",
      "176:\tlearn: 0.2119171\ttotal: 1.13s\tremaining: 5.23s\n",
      "177:\tlearn: 0.2117388\ttotal: 1.13s\tremaining: 5.22s\n",
      "178:\tlearn: 0.2116222\ttotal: 1.14s\tremaining: 5.21s\n",
      "179:\tlearn: 0.2113572\ttotal: 1.14s\tremaining: 5.19s\n",
      "180:\tlearn: 0.2111646\ttotal: 1.14s\tremaining: 5.18s\n",
      "181:\tlearn: 0.2109675\ttotal: 1.15s\tremaining: 5.17s\n",
      "182:\tlearn: 0.2108600\ttotal: 1.16s\tremaining: 5.16s\n",
      "183:\tlearn: 0.2107253\ttotal: 1.16s\tremaining: 5.14s\n",
      "184:\tlearn: 0.2105937\ttotal: 1.17s\tremaining: 5.13s\n",
      "185:\tlearn: 0.2104135\ttotal: 1.17s\tremaining: 5.12s\n",
      "186:\tlearn: 0.2102394\ttotal: 1.17s\tremaining: 5.11s\n",
      "187:\tlearn: 0.2100739\ttotal: 1.18s\tremaining: 5.09s\n",
      "188:\tlearn: 0.2098812\ttotal: 1.19s\tremaining: 5.08s\n",
      "189:\tlearn: 0.2096841\ttotal: 1.19s\tremaining: 5.07s\n",
      "190:\tlearn: 0.2095743\ttotal: 1.19s\tremaining: 5.06s\n",
      "191:\tlearn: 0.2093933\ttotal: 1.2s\tremaining: 5.05s\n",
      "192:\tlearn: 0.2092937\ttotal: 1.21s\tremaining: 5.04s\n",
      "193:\tlearn: 0.2091520\ttotal: 1.21s\tremaining: 5.03s\n",
      "194:\tlearn: 0.2090294\ttotal: 1.22s\tremaining: 5.03s\n",
      "195:\tlearn: 0.2087621\ttotal: 1.22s\tremaining: 5.02s\n",
      "196:\tlearn: 0.2085897\ttotal: 1.23s\tremaining: 5.01s\n",
      "197:\tlearn: 0.2084738\ttotal: 1.23s\tremaining: 5s\n",
      "198:\tlearn: 0.2083128\ttotal: 1.24s\tremaining: 4.99s\n",
      "199:\tlearn: 0.2081942\ttotal: 1.24s\tremaining: 4.97s\n",
      "200:\tlearn: 0.2080461\ttotal: 1.25s\tremaining: 4.97s\n",
      "201:\tlearn: 0.2078812\ttotal: 1.25s\tremaining: 4.95s\n",
      "202:\tlearn: 0.2077163\ttotal: 1.26s\tremaining: 4.94s\n",
      "203:\tlearn: 0.2075444\ttotal: 1.26s\tremaining: 4.93s\n",
      "204:\tlearn: 0.2073538\ttotal: 1.27s\tremaining: 4.92s\n",
      "205:\tlearn: 0.2071502\ttotal: 1.27s\tremaining: 4.91s\n",
      "206:\tlearn: 0.2070268\ttotal: 1.28s\tremaining: 4.9s\n",
      "207:\tlearn: 0.2068995\ttotal: 1.28s\tremaining: 4.89s\n",
      "208:\tlearn: 0.2067449\ttotal: 1.29s\tremaining: 4.88s\n",
      "209:\tlearn: 0.2065784\ttotal: 1.29s\tremaining: 4.87s\n",
      "210:\tlearn: 0.2064240\ttotal: 1.3s\tremaining: 4.86s\n",
      "211:\tlearn: 0.2062622\ttotal: 1.3s\tremaining: 4.85s\n",
      "212:\tlearn: 0.2061055\ttotal: 1.31s\tremaining: 4.84s\n",
      "213:\tlearn: 0.2059758\ttotal: 1.31s\tremaining: 4.83s\n",
      "214:\tlearn: 0.2058472\ttotal: 1.32s\tremaining: 4.82s\n",
      "215:\tlearn: 0.2057411\ttotal: 1.32s\tremaining: 4.81s\n",
      "216:\tlearn: 0.2056177\ttotal: 1.33s\tremaining: 4.8s\n",
      "217:\tlearn: 0.2055131\ttotal: 1.33s\tremaining: 4.79s\n",
      "218:\tlearn: 0.2053109\ttotal: 1.34s\tremaining: 4.78s\n",
      "219:\tlearn: 0.2051211\ttotal: 1.35s\tremaining: 4.77s\n",
      "220:\tlearn: 0.2050150\ttotal: 1.35s\tremaining: 4.76s\n",
      "221:\tlearn: 0.2048696\ttotal: 1.35s\tremaining: 4.75s\n",
      "222:\tlearn: 0.2047565\ttotal: 1.36s\tremaining: 4.74s\n",
      "223:\tlearn: 0.2045702\ttotal: 1.36s\tremaining: 4.73s\n",
      "224:\tlearn: 0.2043845\ttotal: 1.37s\tremaining: 4.72s\n",
      "225:\tlearn: 0.2042178\ttotal: 1.38s\tremaining: 4.71s\n",
      "226:\tlearn: 0.2040663\ttotal: 1.38s\tremaining: 4.7s\n",
      "227:\tlearn: 0.2038890\ttotal: 1.39s\tremaining: 4.69s\n",
      "228:\tlearn: 0.2037238\ttotal: 1.39s\tremaining: 4.68s\n",
      "229:\tlearn: 0.2036068\ttotal: 1.4s\tremaining: 4.67s\n",
      "230:\tlearn: 0.2034365\ttotal: 1.4s\tremaining: 4.66s\n",
      "231:\tlearn: 0.2032606\ttotal: 1.41s\tremaining: 4.65s\n",
      "232:\tlearn: 0.2031262\ttotal: 1.41s\tremaining: 4.65s\n",
      "233:\tlearn: 0.2030278\ttotal: 1.42s\tremaining: 4.64s\n",
      "234:\tlearn: 0.2028343\ttotal: 1.42s\tremaining: 4.63s\n",
      "235:\tlearn: 0.2026514\ttotal: 1.43s\tremaining: 4.63s\n",
      "236:\tlearn: 0.2024714\ttotal: 1.43s\tremaining: 4.62s\n",
      "237:\tlearn: 0.2023086\ttotal: 1.44s\tremaining: 4.61s\n",
      "238:\tlearn: 0.2021512\ttotal: 1.44s\tremaining: 4.6s\n",
      "239:\tlearn: 0.2020727\ttotal: 1.45s\tremaining: 4.59s\n",
      "240:\tlearn: 0.2019722\ttotal: 1.45s\tremaining: 4.58s\n",
      "241:\tlearn: 0.2018520\ttotal: 1.46s\tremaining: 4.57s\n",
      "242:\tlearn: 0.2017536\ttotal: 1.46s\tremaining: 4.56s\n",
      "243:\tlearn: 0.2016000\ttotal: 1.47s\tremaining: 4.55s\n",
      "244:\tlearn: 0.2014523\ttotal: 1.48s\tremaining: 4.54s\n",
      "245:\tlearn: 0.2012982\ttotal: 1.48s\tremaining: 4.54s\n",
      "246:\tlearn: 0.2011665\ttotal: 1.48s\tremaining: 4.53s\n",
      "247:\tlearn: 0.2010465\ttotal: 1.49s\tremaining: 4.52s\n",
      "248:\tlearn: 0.2009584\ttotal: 1.49s\tremaining: 4.51s\n",
      "249:\tlearn: 0.2007995\ttotal: 1.5s\tremaining: 4.5s\n",
      "250:\tlearn: 0.2006917\ttotal: 1.5s\tremaining: 4.49s\n",
      "251:\tlearn: 0.2005699\ttotal: 1.51s\tremaining: 4.48s\n",
      "252:\tlearn: 0.2004703\ttotal: 1.51s\tremaining: 4.47s\n",
      "253:\tlearn: 0.2003717\ttotal: 1.52s\tremaining: 4.46s\n",
      "254:\tlearn: 0.2002435\ttotal: 1.52s\tremaining: 4.46s\n",
      "255:\tlearn: 0.2001518\ttotal: 1.53s\tremaining: 4.45s\n",
      "256:\tlearn: 0.2000233\ttotal: 1.53s\tremaining: 4.43s\n",
      "257:\tlearn: 0.1999196\ttotal: 1.54s\tremaining: 4.43s\n",
      "258:\tlearn: 0.1997332\ttotal: 1.54s\tremaining: 4.42s\n",
      "259:\tlearn: 0.1996327\ttotal: 1.55s\tremaining: 4.41s\n",
      "260:\tlearn: 0.1995294\ttotal: 1.55s\tremaining: 4.4s\n",
      "261:\tlearn: 0.1994020\ttotal: 1.56s\tremaining: 4.39s\n",
      "262:\tlearn: 0.1993023\ttotal: 1.56s\tremaining: 4.38s\n",
      "263:\tlearn: 0.1992134\ttotal: 1.57s\tremaining: 4.37s\n",
      "264:\tlearn: 0.1990397\ttotal: 1.57s\tremaining: 4.37s\n",
      "265:\tlearn: 0.1988915\ttotal: 1.58s\tremaining: 4.36s\n",
      "266:\tlearn: 0.1987143\ttotal: 1.58s\tremaining: 4.35s\n",
      "267:\tlearn: 0.1986045\ttotal: 1.59s\tremaining: 4.34s\n",
      "268:\tlearn: 0.1985108\ttotal: 1.59s\tremaining: 4.33s\n",
      "269:\tlearn: 0.1983983\ttotal: 1.6s\tremaining: 4.32s\n",
      "270:\tlearn: 0.1982933\ttotal: 1.6s\tremaining: 4.31s\n",
      "271:\tlearn: 0.1982043\ttotal: 1.61s\tremaining: 4.3s\n",
      "272:\tlearn: 0.1980818\ttotal: 1.61s\tremaining: 4.3s\n",
      "273:\tlearn: 0.1979395\ttotal: 1.62s\tremaining: 4.29s\n",
      "274:\tlearn: 0.1977888\ttotal: 1.62s\tremaining: 4.28s\n",
      "275:\tlearn: 0.1976715\ttotal: 1.63s\tremaining: 4.27s\n",
      "276:\tlearn: 0.1975992\ttotal: 1.64s\tremaining: 4.27s\n",
      "277:\tlearn: 0.1975134\ttotal: 1.64s\tremaining: 4.26s\n",
      "278:\tlearn: 0.1974173\ttotal: 1.65s\tremaining: 4.25s\n",
      "279:\tlearn: 0.1972706\ttotal: 1.65s\tremaining: 4.24s\n",
      "280:\tlearn: 0.1971626\ttotal: 1.66s\tremaining: 4.24s\n",
      "281:\tlearn: 0.1970422\ttotal: 1.66s\tremaining: 4.23s\n",
      "282:\tlearn: 0.1969777\ttotal: 1.67s\tremaining: 4.22s\n",
      "283:\tlearn: 0.1968279\ttotal: 1.67s\tremaining: 4.21s\n",
      "284:\tlearn: 0.1967335\ttotal: 1.68s\tremaining: 4.21s\n",
      "285:\tlearn: 0.1965935\ttotal: 1.68s\tremaining: 4.2s\n",
      "286:\tlearn: 0.1965181\ttotal: 1.69s\tremaining: 4.19s\n",
      "287:\tlearn: 0.1963888\ttotal: 1.69s\tremaining: 4.18s\n",
      "288:\tlearn: 0.1962734\ttotal: 1.7s\tremaining: 4.17s\n",
      "289:\tlearn: 0.1961663\ttotal: 1.7s\tremaining: 4.17s\n",
      "290:\tlearn: 0.1960556\ttotal: 1.71s\tremaining: 4.16s\n",
      "291:\tlearn: 0.1959292\ttotal: 1.72s\tremaining: 4.16s\n",
      "292:\tlearn: 0.1957482\ttotal: 1.72s\tremaining: 4.16s\n",
      "293:\tlearn: 0.1956445\ttotal: 1.73s\tremaining: 4.15s\n",
      "294:\tlearn: 0.1954605\ttotal: 1.73s\tremaining: 4.15s\n",
      "295:\tlearn: 0.1953445\ttotal: 1.76s\tremaining: 4.19s\n",
      "296:\tlearn: 0.1952729\ttotal: 1.77s\tremaining: 4.18s\n",
      "297:\tlearn: 0.1951621\ttotal: 1.77s\tremaining: 4.18s\n",
      "298:\tlearn: 0.1950751\ttotal: 1.78s\tremaining: 4.18s\n",
      "299:\tlearn: 0.1948965\ttotal: 1.79s\tremaining: 4.18s\n",
      "300:\tlearn: 0.1947852\ttotal: 1.8s\tremaining: 4.18s\n",
      "301:\tlearn: 0.1946855\ttotal: 1.81s\tremaining: 4.18s\n",
      "302:\tlearn: 0.1945783\ttotal: 1.82s\tremaining: 4.19s\n",
      "303:\tlearn: 0.1944602\ttotal: 1.84s\tremaining: 4.21s\n",
      "304:\tlearn: 0.1943393\ttotal: 1.9s\tremaining: 4.32s\n",
      "305:\tlearn: 0.1942125\ttotal: 1.92s\tremaining: 4.35s\n",
      "306:\tlearn: 0.1940272\ttotal: 1.93s\tremaining: 4.36s\n",
      "307:\tlearn: 0.1939396\ttotal: 1.97s\tremaining: 4.43s\n",
      "308:\tlearn: 0.1938370\ttotal: 2s\tremaining: 4.48s\n",
      "309:\tlearn: 0.1937498\ttotal: 2.04s\tremaining: 4.55s\n",
      "310:\tlearn: 0.1936378\ttotal: 2.08s\tremaining: 4.6s\n",
      "311:\tlearn: 0.1935562\ttotal: 2.09s\tremaining: 4.61s\n",
      "312:\tlearn: 0.1934768\ttotal: 2.11s\tremaining: 4.63s\n",
      "313:\tlearn: 0.1933423\ttotal: 2.13s\tremaining: 4.64s\n",
      "314:\tlearn: 0.1932413\ttotal: 2.14s\tremaining: 4.65s\n",
      "315:\tlearn: 0.1931746\ttotal: 2.16s\tremaining: 4.68s\n",
      "316:\tlearn: 0.1930616\ttotal: 2.18s\tremaining: 4.7s\n",
      "317:\tlearn: 0.1929116\ttotal: 2.19s\tremaining: 4.7s\n",
      "318:\tlearn: 0.1928220\ttotal: 2.2s\tremaining: 4.7s\n",
      "319:\tlearn: 0.1926592\ttotal: 2.21s\tremaining: 4.69s\n",
      "320:\tlearn: 0.1925358\ttotal: 2.21s\tremaining: 4.69s\n",
      "321:\tlearn: 0.1923688\ttotal: 2.22s\tremaining: 4.68s\n",
      "322:\tlearn: 0.1922784\ttotal: 2.23s\tremaining: 4.68s\n",
      "323:\tlearn: 0.1921759\ttotal: 2.24s\tremaining: 4.67s\n",
      "324:\tlearn: 0.1920529\ttotal: 2.25s\tremaining: 4.67s\n",
      "325:\tlearn: 0.1919854\ttotal: 2.25s\tremaining: 4.66s\n",
      "326:\tlearn: 0.1918921\ttotal: 2.26s\tremaining: 4.66s\n",
      "327:\tlearn: 0.1917786\ttotal: 2.28s\tremaining: 4.66s\n",
      "328:\tlearn: 0.1916396\ttotal: 2.29s\tremaining: 4.67s\n",
      "329:\tlearn: 0.1915626\ttotal: 2.3s\tremaining: 4.66s\n",
      "330:\tlearn: 0.1914721\ttotal: 2.32s\tremaining: 4.68s\n",
      "331:\tlearn: 0.1913704\ttotal: 2.36s\tremaining: 4.75s\n",
      "332:\tlearn: 0.1913227\ttotal: 2.37s\tremaining: 4.74s\n",
      "333:\tlearn: 0.1912366\ttotal: 2.37s\tremaining: 4.73s\n",
      "334:\tlearn: 0.1911337\ttotal: 2.39s\tremaining: 4.74s\n",
      "335:\tlearn: 0.1910224\ttotal: 2.4s\tremaining: 4.73s\n",
      "336:\tlearn: 0.1909268\ttotal: 2.4s\tremaining: 4.73s\n",
      "337:\tlearn: 0.1908461\ttotal: 2.42s\tremaining: 4.74s\n",
      "338:\tlearn: 0.1907482\ttotal: 2.44s\tremaining: 4.75s\n",
      "339:\tlearn: 0.1905963\ttotal: 2.45s\tremaining: 4.76s\n",
      "340:\tlearn: 0.1905124\ttotal: 2.46s\tremaining: 4.76s\n",
      "341:\tlearn: 0.1903947\ttotal: 2.49s\tremaining: 4.8s\n",
      "342:\tlearn: 0.1902574\ttotal: 2.51s\tremaining: 4.8s\n",
      "343:\tlearn: 0.1901413\ttotal: 2.54s\tremaining: 4.85s\n",
      "344:\tlearn: 0.1900424\ttotal: 2.56s\tremaining: 4.85s\n",
      "345:\tlearn: 0.1899335\ttotal: 2.57s\tremaining: 4.85s\n",
      "346:\tlearn: 0.1897965\ttotal: 2.58s\tremaining: 4.86s\n",
      "347:\tlearn: 0.1896967\ttotal: 2.6s\tremaining: 4.86s\n",
      "348:\tlearn: 0.1896179\ttotal: 2.63s\tremaining: 4.91s\n",
      "349:\tlearn: 0.1894893\ttotal: 2.64s\tremaining: 4.91s\n",
      "350:\tlearn: 0.1894106\ttotal: 2.65s\tremaining: 4.91s\n",
      "351:\tlearn: 0.1893380\ttotal: 2.69s\tremaining: 4.95s\n",
      "352:\tlearn: 0.1892295\ttotal: 2.7s\tremaining: 4.95s\n",
      "353:\tlearn: 0.1891167\ttotal: 2.71s\tremaining: 4.96s\n",
      "354:\tlearn: 0.1890141\ttotal: 2.73s\tremaining: 4.95s\n",
      "355:\tlearn: 0.1888941\ttotal: 2.74s\tremaining: 4.96s\n",
      "356:\tlearn: 0.1887982\ttotal: 2.75s\tremaining: 4.96s\n",
      "357:\tlearn: 0.1887286\ttotal: 2.77s\tremaining: 4.96s\n",
      "358:\tlearn: 0.1886162\ttotal: 2.78s\tremaining: 4.96s\n",
      "359:\tlearn: 0.1885368\ttotal: 2.79s\tremaining: 4.96s\n",
      "360:\tlearn: 0.1884317\ttotal: 2.82s\tremaining: 4.99s\n",
      "361:\tlearn: 0.1883221\ttotal: 2.83s\tremaining: 4.99s\n",
      "362:\tlearn: 0.1882304\ttotal: 2.83s\tremaining: 4.98s\n",
      "363:\tlearn: 0.1881112\ttotal: 2.84s\tremaining: 4.97s\n",
      "364:\tlearn: 0.1880470\ttotal: 2.85s\tremaining: 4.96s\n",
      "365:\tlearn: 0.1879703\ttotal: 2.86s\tremaining: 4.96s\n",
      "366:\tlearn: 0.1878844\ttotal: 2.87s\tremaining: 4.95s\n",
      "367:\tlearn: 0.1877578\ttotal: 2.88s\tremaining: 4.95s\n",
      "368:\tlearn: 0.1876861\ttotal: 2.89s\tremaining: 4.94s\n",
      "369:\tlearn: 0.1876024\ttotal: 2.9s\tremaining: 4.94s\n",
      "370:\tlearn: 0.1875458\ttotal: 2.91s\tremaining: 4.93s\n",
      "371:\tlearn: 0.1874742\ttotal: 2.92s\tremaining: 4.92s\n",
      "372:\tlearn: 0.1873593\ttotal: 2.93s\tremaining: 4.92s\n",
      "373:\tlearn: 0.1872836\ttotal: 2.94s\tremaining: 4.92s\n",
      "374:\tlearn: 0.1872076\ttotal: 2.94s\tremaining: 4.91s\n",
      "375:\tlearn: 0.1870919\ttotal: 2.96s\tremaining: 4.91s\n",
      "376:\tlearn: 0.1869815\ttotal: 2.97s\tremaining: 4.9s\n",
      "377:\tlearn: 0.1868546\ttotal: 2.97s\tremaining: 4.89s\n",
      "378:\tlearn: 0.1867840\ttotal: 2.98s\tremaining: 4.89s\n",
      "379:\tlearn: 0.1867017\ttotal: 3s\tremaining: 4.89s\n",
      "380:\tlearn: 0.1866357\ttotal: 3.01s\tremaining: 4.88s\n",
      "381:\tlearn: 0.1865653\ttotal: 3.01s\tremaining: 4.87s\n",
      "382:\tlearn: 0.1864962\ttotal: 3.02s\tremaining: 4.87s\n",
      "383:\tlearn: 0.1864229\ttotal: 3.04s\tremaining: 4.87s\n",
      "384:\tlearn: 0.1863755\ttotal: 3.04s\tremaining: 4.86s\n",
      "385:\tlearn: 0.1863045\ttotal: 3.05s\tremaining: 4.86s\n",
      "386:\tlearn: 0.1862078\ttotal: 3.08s\tremaining: 4.87s\n",
      "387:\tlearn: 0.1861226\ttotal: 3.08s\tremaining: 4.87s\n",
      "388:\tlearn: 0.1860143\ttotal: 3.1s\tremaining: 4.86s\n",
      "389:\tlearn: 0.1859784\ttotal: 3.12s\tremaining: 4.88s\n",
      "390:\tlearn: 0.1858827\ttotal: 3.13s\tremaining: 4.88s\n",
      "391:\tlearn: 0.1857574\ttotal: 3.15s\tremaining: 4.89s\n",
      "392:\tlearn: 0.1856661\ttotal: 3.16s\tremaining: 4.88s\n",
      "393:\tlearn: 0.1855881\ttotal: 3.17s\tremaining: 4.88s\n",
      "394:\tlearn: 0.1854823\ttotal: 3.18s\tremaining: 4.87s\n",
      "395:\tlearn: 0.1854377\ttotal: 3.19s\tremaining: 4.87s\n",
      "396:\tlearn: 0.1853819\ttotal: 3.2s\tremaining: 4.86s\n",
      "397:\tlearn: 0.1853196\ttotal: 3.21s\tremaining: 4.86s\n",
      "398:\tlearn: 0.1852688\ttotal: 3.22s\tremaining: 4.85s\n",
      "399:\tlearn: 0.1852021\ttotal: 3.23s\tremaining: 4.85s\n",
      "400:\tlearn: 0.1851381\ttotal: 3.25s\tremaining: 4.85s\n",
      "401:\tlearn: 0.1850541\ttotal: 3.25s\tremaining: 4.84s\n",
      "402:\tlearn: 0.1849947\ttotal: 3.27s\tremaining: 4.84s\n",
      "403:\tlearn: 0.1849372\ttotal: 3.27s\tremaining: 4.83s\n",
      "404:\tlearn: 0.1849046\ttotal: 3.28s\tremaining: 4.82s\n",
      "405:\tlearn: 0.1848165\ttotal: 3.29s\tremaining: 4.81s\n",
      "406:\tlearn: 0.1847476\ttotal: 3.29s\tremaining: 4.8s\n",
      "407:\tlearn: 0.1846763\ttotal: 3.3s\tremaining: 4.79s\n",
      "408:\tlearn: 0.1845670\ttotal: 3.31s\tremaining: 4.79s\n",
      "409:\tlearn: 0.1844790\ttotal: 3.33s\tremaining: 4.78s\n",
      "410:\tlearn: 0.1843639\ttotal: 3.34s\tremaining: 4.78s\n",
      "411:\tlearn: 0.1842974\ttotal: 3.35s\tremaining: 4.79s\n",
      "412:\tlearn: 0.1842444\ttotal: 3.36s\tremaining: 4.78s\n",
      "413:\tlearn: 0.1841938\ttotal: 3.37s\tremaining: 4.77s\n",
      "414:\tlearn: 0.1841441\ttotal: 3.38s\tremaining: 4.76s\n",
      "415:\tlearn: 0.1840443\ttotal: 3.39s\tremaining: 4.76s\n",
      "416:\tlearn: 0.1839511\ttotal: 3.4s\tremaining: 4.76s\n",
      "417:\tlearn: 0.1838639\ttotal: 3.41s\tremaining: 4.75s\n",
      "418:\tlearn: 0.1838134\ttotal: 3.42s\tremaining: 4.74s\n",
      "419:\tlearn: 0.1836866\ttotal: 3.43s\tremaining: 4.74s\n",
      "420:\tlearn: 0.1836320\ttotal: 3.44s\tremaining: 4.73s\n",
      "421:\tlearn: 0.1835765\ttotal: 3.45s\tremaining: 4.72s\n",
      "422:\tlearn: 0.1835099\ttotal: 3.45s\tremaining: 4.71s\n",
      "423:\tlearn: 0.1834732\ttotal: 3.46s\tremaining: 4.7s\n",
      "424:\tlearn: 0.1834178\ttotal: 3.47s\tremaining: 4.69s\n",
      "425:\tlearn: 0.1833551\ttotal: 3.47s\tremaining: 4.68s\n",
      "426:\tlearn: 0.1832439\ttotal: 3.48s\tremaining: 4.67s\n",
      "427:\tlearn: 0.1831797\ttotal: 3.49s\tremaining: 4.66s\n",
      "428:\tlearn: 0.1831079\ttotal: 3.5s\tremaining: 4.65s\n",
      "429:\tlearn: 0.1830349\ttotal: 3.5s\tremaining: 4.64s\n",
      "430:\tlearn: 0.1830014\ttotal: 3.51s\tremaining: 4.63s\n",
      "431:\tlearn: 0.1829528\ttotal: 3.52s\tremaining: 4.62s\n",
      "432:\tlearn: 0.1828761\ttotal: 3.52s\tremaining: 4.62s\n",
      "433:\tlearn: 0.1827981\ttotal: 3.53s\tremaining: 4.6s\n",
      "434:\tlearn: 0.1827294\ttotal: 3.54s\tremaining: 4.6s\n",
      "435:\tlearn: 0.1827019\ttotal: 3.54s\tremaining: 4.58s\n",
      "436:\tlearn: 0.1826433\ttotal: 3.55s\tremaining: 4.58s\n",
      "437:\tlearn: 0.1825977\ttotal: 3.56s\tremaining: 4.57s\n",
      "438:\tlearn: 0.1825131\ttotal: 3.57s\tremaining: 4.56s\n",
      "439:\tlearn: 0.1824551\ttotal: 3.58s\tremaining: 4.55s\n",
      "440:\tlearn: 0.1824093\ttotal: 3.58s\tremaining: 4.54s\n",
      "441:\tlearn: 0.1823149\ttotal: 3.59s\tremaining: 4.53s\n",
      "442:\tlearn: 0.1822284\ttotal: 3.6s\tremaining: 4.53s\n",
      "443:\tlearn: 0.1821573\ttotal: 3.61s\tremaining: 4.52s\n",
      "444:\tlearn: 0.1820718\ttotal: 3.61s\tremaining: 4.51s\n",
      "445:\tlearn: 0.1820184\ttotal: 3.62s\tremaining: 4.5s\n",
      "446:\tlearn: 0.1819735\ttotal: 3.63s\tremaining: 4.49s\n",
      "447:\tlearn: 0.1819206\ttotal: 3.63s\tremaining: 4.47s\n",
      "448:\tlearn: 0.1818304\ttotal: 3.64s\tremaining: 4.47s\n",
      "449:\tlearn: 0.1817537\ttotal: 3.65s\tremaining: 4.46s\n",
      "450:\tlearn: 0.1816694\ttotal: 3.65s\tremaining: 4.45s\n",
      "451:\tlearn: 0.1816109\ttotal: 3.66s\tremaining: 4.44s\n",
      "452:\tlearn: 0.1815616\ttotal: 3.67s\tremaining: 4.43s\n",
      "453:\tlearn: 0.1814846\ttotal: 3.67s\tremaining: 4.42s\n",
      "454:\tlearn: 0.1813999\ttotal: 3.68s\tremaining: 4.41s\n",
      "455:\tlearn: 0.1812935\ttotal: 3.69s\tremaining: 4.41s\n",
      "456:\tlearn: 0.1812373\ttotal: 3.71s\tremaining: 4.4s\n",
      "457:\tlearn: 0.1811881\ttotal: 3.72s\tremaining: 4.4s\n",
      "458:\tlearn: 0.1810702\ttotal: 3.73s\tremaining: 4.39s\n",
      "459:\tlearn: 0.1809936\ttotal: 3.74s\tremaining: 4.39s\n",
      "460:\tlearn: 0.1809499\ttotal: 3.76s\tremaining: 4.39s\n",
      "461:\tlearn: 0.1809074\ttotal: 3.77s\tremaining: 4.39s\n",
      "462:\tlearn: 0.1808493\ttotal: 3.78s\tremaining: 4.38s\n",
      "463:\tlearn: 0.1807867\ttotal: 3.79s\tremaining: 4.38s\n",
      "464:\tlearn: 0.1806951\ttotal: 3.8s\tremaining: 4.37s\n",
      "465:\tlearn: 0.1806705\ttotal: 3.81s\tremaining: 4.36s\n",
      "466:\tlearn: 0.1805779\ttotal: 3.81s\tremaining: 4.35s\n",
      "467:\tlearn: 0.1805149\ttotal: 3.82s\tremaining: 4.34s\n",
      "468:\tlearn: 0.1804677\ttotal: 3.83s\tremaining: 4.33s\n",
      "469:\tlearn: 0.1804009\ttotal: 3.83s\tremaining: 4.32s\n",
      "470:\tlearn: 0.1803258\ttotal: 3.84s\tremaining: 4.31s\n",
      "471:\tlearn: 0.1802603\ttotal: 3.84s\tremaining: 4.3s\n",
      "472:\tlearn: 0.1801963\ttotal: 3.85s\tremaining: 4.29s\n",
      "473:\tlearn: 0.1801424\ttotal: 3.85s\tremaining: 4.28s\n",
      "474:\tlearn: 0.1800783\ttotal: 3.86s\tremaining: 4.27s\n",
      "475:\tlearn: 0.1800310\ttotal: 3.87s\tremaining: 4.26s\n",
      "476:\tlearn: 0.1799820\ttotal: 3.88s\tremaining: 4.26s\n",
      "477:\tlearn: 0.1798940\ttotal: 3.89s\tremaining: 4.25s\n",
      "478:\tlearn: 0.1798161\ttotal: 3.9s\tremaining: 4.24s\n",
      "479:\tlearn: 0.1797682\ttotal: 3.91s\tremaining: 4.24s\n",
      "480:\tlearn: 0.1797091\ttotal: 3.92s\tremaining: 4.24s\n",
      "481:\tlearn: 0.1796428\ttotal: 3.94s\tremaining: 4.23s\n",
      "482:\tlearn: 0.1795856\ttotal: 3.95s\tremaining: 4.23s\n",
      "483:\tlearn: 0.1795311\ttotal: 3.97s\tremaining: 4.23s\n",
      "484:\tlearn: 0.1794412\ttotal: 3.98s\tremaining: 4.22s\n",
      "485:\tlearn: 0.1793901\ttotal: 3.98s\tremaining: 4.21s\n",
      "486:\tlearn: 0.1793239\ttotal: 3.99s\tremaining: 4.2s\n",
      "487:\tlearn: 0.1792385\ttotal: 4s\tremaining: 4.19s\n",
      "488:\tlearn: 0.1791724\ttotal: 4s\tremaining: 4.18s\n",
      "489:\tlearn: 0.1790894\ttotal: 4.01s\tremaining: 4.18s\n",
      "490:\tlearn: 0.1790109\ttotal: 4.02s\tremaining: 4.17s\n",
      "491:\tlearn: 0.1789280\ttotal: 4.03s\tremaining: 4.16s\n",
      "492:\tlearn: 0.1788851\ttotal: 4.03s\tremaining: 4.15s\n",
      "493:\tlearn: 0.1788269\ttotal: 4.04s\tremaining: 4.14s\n",
      "494:\tlearn: 0.1787615\ttotal: 4.05s\tremaining: 4.13s\n",
      "495:\tlearn: 0.1787238\ttotal: 4.06s\tremaining: 4.12s\n",
      "496:\tlearn: 0.1786797\ttotal: 4.06s\tremaining: 4.11s\n",
      "497:\tlearn: 0.1786083\ttotal: 4.07s\tremaining: 4.1s\n",
      "498:\tlearn: 0.1785596\ttotal: 4.08s\tremaining: 4.09s\n",
      "499:\tlearn: 0.1784828\ttotal: 4.08s\tremaining: 4.08s\n",
      "500:\tlearn: 0.1784369\ttotal: 4.09s\tremaining: 4.08s\n",
      "501:\tlearn: 0.1783934\ttotal: 4.1s\tremaining: 4.07s\n",
      "502:\tlearn: 0.1783514\ttotal: 4.11s\tremaining: 4.06s\n",
      "503:\tlearn: 0.1782094\ttotal: 4.12s\tremaining: 4.05s\n",
      "504:\tlearn: 0.1781155\ttotal: 4.13s\tremaining: 4.04s\n",
      "505:\tlearn: 0.1780722\ttotal: 4.13s\tremaining: 4.03s\n",
      "506:\tlearn: 0.1780075\ttotal: 4.14s\tremaining: 4.02s\n",
      "507:\tlearn: 0.1779409\ttotal: 4.14s\tremaining: 4.01s\n",
      "508:\tlearn: 0.1778988\ttotal: 4.15s\tremaining: 4s\n",
      "509:\tlearn: 0.1778514\ttotal: 4.16s\tremaining: 3.99s\n",
      "510:\tlearn: 0.1778188\ttotal: 4.16s\tremaining: 3.98s\n",
      "511:\tlearn: 0.1777797\ttotal: 4.17s\tremaining: 3.97s\n",
      "512:\tlearn: 0.1777061\ttotal: 4.18s\tremaining: 3.96s\n",
      "513:\tlearn: 0.1776111\ttotal: 4.18s\tremaining: 3.95s\n",
      "514:\tlearn: 0.1775585\ttotal: 4.19s\tremaining: 3.94s\n",
      "515:\tlearn: 0.1774955\ttotal: 4.19s\tremaining: 3.93s\n",
      "516:\tlearn: 0.1774114\ttotal: 4.2s\tremaining: 3.92s\n",
      "517:\tlearn: 0.1773659\ttotal: 4.2s\tremaining: 3.91s\n",
      "518:\tlearn: 0.1773140\ttotal: 4.21s\tremaining: 3.9s\n",
      "519:\tlearn: 0.1772428\ttotal: 4.22s\tremaining: 3.89s\n",
      "520:\tlearn: 0.1771869\ttotal: 4.22s\tremaining: 3.88s\n",
      "521:\tlearn: 0.1771451\ttotal: 4.23s\tremaining: 3.88s\n",
      "522:\tlearn: 0.1770731\ttotal: 4.24s\tremaining: 3.86s\n",
      "523:\tlearn: 0.1770213\ttotal: 4.25s\tremaining: 3.86s\n",
      "524:\tlearn: 0.1769584\ttotal: 4.25s\tremaining: 3.85s\n",
      "525:\tlearn: 0.1769107\ttotal: 4.26s\tremaining: 3.84s\n",
      "526:\tlearn: 0.1768510\ttotal: 4.27s\tremaining: 3.83s\n",
      "527:\tlearn: 0.1768157\ttotal: 4.28s\tremaining: 3.83s\n",
      "528:\tlearn: 0.1767618\ttotal: 4.28s\tremaining: 3.81s\n",
      "529:\tlearn: 0.1766972\ttotal: 4.29s\tremaining: 3.81s\n",
      "530:\tlearn: 0.1766480\ttotal: 4.3s\tremaining: 3.79s\n",
      "531:\tlearn: 0.1765807\ttotal: 4.3s\tremaining: 3.79s\n",
      "532:\tlearn: 0.1765390\ttotal: 4.31s\tremaining: 3.78s\n",
      "533:\tlearn: 0.1764739\ttotal: 4.32s\tremaining: 3.77s\n",
      "534:\tlearn: 0.1764289\ttotal: 4.32s\tremaining: 3.75s\n",
      "535:\tlearn: 0.1763573\ttotal: 4.33s\tremaining: 3.75s\n",
      "536:\tlearn: 0.1762991\ttotal: 4.33s\tremaining: 3.73s\n",
      "537:\tlearn: 0.1762637\ttotal: 4.34s\tremaining: 3.73s\n",
      "538:\tlearn: 0.1762192\ttotal: 4.34s\tremaining: 3.71s\n",
      "539:\tlearn: 0.1761779\ttotal: 4.35s\tremaining: 3.7s\n",
      "540:\tlearn: 0.1761459\ttotal: 4.36s\tremaining: 3.69s\n",
      "541:\tlearn: 0.1760898\ttotal: 4.36s\tremaining: 3.69s\n",
      "542:\tlearn: 0.1760120\ttotal: 4.37s\tremaining: 3.68s\n",
      "543:\tlearn: 0.1759540\ttotal: 4.37s\tremaining: 3.67s\n",
      "544:\tlearn: 0.1758840\ttotal: 4.38s\tremaining: 3.66s\n",
      "545:\tlearn: 0.1758131\ttotal: 4.38s\tremaining: 3.65s\n",
      "546:\tlearn: 0.1757627\ttotal: 4.39s\tremaining: 3.64s\n",
      "547:\tlearn: 0.1757260\ttotal: 4.4s\tremaining: 3.63s\n",
      "548:\tlearn: 0.1756831\ttotal: 4.4s\tremaining: 3.62s\n",
      "549:\tlearn: 0.1756168\ttotal: 4.41s\tremaining: 3.61s\n",
      "550:\tlearn: 0.1755637\ttotal: 4.41s\tremaining: 3.6s\n",
      "551:\tlearn: 0.1755230\ttotal: 4.42s\tremaining: 3.59s\n",
      "552:\tlearn: 0.1754835\ttotal: 4.42s\tremaining: 3.58s\n",
      "553:\tlearn: 0.1753760\ttotal: 4.43s\tremaining: 3.57s\n",
      "554:\tlearn: 0.1752937\ttotal: 4.43s\tremaining: 3.56s\n",
      "555:\tlearn: 0.1752546\ttotal: 4.44s\tremaining: 3.55s\n",
      "556:\tlearn: 0.1752093\ttotal: 4.45s\tremaining: 3.54s\n",
      "557:\tlearn: 0.1751762\ttotal: 4.45s\tremaining: 3.53s\n",
      "558:\tlearn: 0.1750660\ttotal: 4.46s\tremaining: 3.52s\n",
      "559:\tlearn: 0.1750183\ttotal: 4.47s\tremaining: 3.51s\n",
      "560:\tlearn: 0.1749595\ttotal: 4.47s\tremaining: 3.5s\n",
      "561:\tlearn: 0.1749274\ttotal: 4.48s\tremaining: 3.49s\n",
      "562:\tlearn: 0.1748677\ttotal: 4.48s\tremaining: 3.48s\n",
      "563:\tlearn: 0.1748060\ttotal: 4.49s\tremaining: 3.47s\n",
      "564:\tlearn: 0.1747629\ttotal: 4.5s\tremaining: 3.46s\n",
      "565:\tlearn: 0.1747297\ttotal: 4.5s\tremaining: 3.45s\n",
      "566:\tlearn: 0.1746661\ttotal: 4.51s\tremaining: 3.44s\n",
      "567:\tlearn: 0.1746292\ttotal: 4.51s\tremaining: 3.43s\n",
      "568:\tlearn: 0.1745611\ttotal: 4.52s\tremaining: 3.42s\n",
      "569:\tlearn: 0.1745096\ttotal: 4.53s\tremaining: 3.41s\n",
      "570:\tlearn: 0.1744549\ttotal: 4.53s\tremaining: 3.4s\n",
      "571:\tlearn: 0.1743888\ttotal: 4.54s\tremaining: 3.4s\n",
      "572:\tlearn: 0.1743275\ttotal: 4.54s\tremaining: 3.38s\n",
      "573:\tlearn: 0.1742848\ttotal: 4.55s\tremaining: 3.38s\n",
      "574:\tlearn: 0.1742304\ttotal: 4.56s\tremaining: 3.37s\n",
      "575:\tlearn: 0.1742009\ttotal: 4.56s\tremaining: 3.36s\n",
      "576:\tlearn: 0.1741377\ttotal: 4.57s\tremaining: 3.35s\n",
      "577:\tlearn: 0.1740892\ttotal: 4.58s\tremaining: 3.34s\n",
      "578:\tlearn: 0.1740375\ttotal: 4.58s\tremaining: 3.33s\n",
      "579:\tlearn: 0.1739833\ttotal: 4.59s\tremaining: 3.32s\n",
      "580:\tlearn: 0.1739489\ttotal: 4.6s\tremaining: 3.31s\n",
      "581:\tlearn: 0.1739135\ttotal: 4.6s\tremaining: 3.31s\n",
      "582:\tlearn: 0.1739061\ttotal: 4.61s\tremaining: 3.3s\n",
      "583:\tlearn: 0.1738362\ttotal: 4.62s\tremaining: 3.29s\n",
      "584:\tlearn: 0.1737531\ttotal: 4.62s\tremaining: 3.28s\n",
      "585:\tlearn: 0.1737411\ttotal: 4.63s\tremaining: 3.27s\n",
      "586:\tlearn: 0.1736648\ttotal: 4.64s\tremaining: 3.26s\n",
      "587:\tlearn: 0.1735998\ttotal: 4.64s\tremaining: 3.25s\n",
      "588:\tlearn: 0.1735571\ttotal: 4.65s\tremaining: 3.25s\n",
      "589:\tlearn: 0.1735142\ttotal: 4.66s\tremaining: 3.24s\n",
      "590:\tlearn: 0.1734409\ttotal: 4.66s\tremaining: 3.23s\n",
      "591:\tlearn: 0.1733955\ttotal: 4.67s\tremaining: 3.22s\n",
      "592:\tlearn: 0.1733523\ttotal: 4.68s\tremaining: 3.21s\n",
      "593:\tlearn: 0.1732918\ttotal: 4.69s\tremaining: 3.2s\n",
      "594:\tlearn: 0.1732510\ttotal: 4.69s\tremaining: 3.19s\n",
      "595:\tlearn: 0.1731994\ttotal: 4.7s\tremaining: 3.19s\n",
      "596:\tlearn: 0.1731304\ttotal: 4.71s\tremaining: 3.18s\n",
      "597:\tlearn: 0.1730979\ttotal: 4.71s\tremaining: 3.17s\n",
      "598:\tlearn: 0.1730485\ttotal: 4.72s\tremaining: 3.16s\n",
      "599:\tlearn: 0.1730144\ttotal: 4.72s\tremaining: 3.15s\n",
      "600:\tlearn: 0.1729673\ttotal: 4.73s\tremaining: 3.14s\n",
      "601:\tlearn: 0.1729189\ttotal: 4.74s\tremaining: 3.13s\n",
      "602:\tlearn: 0.1728826\ttotal: 4.74s\tremaining: 3.12s\n",
      "603:\tlearn: 0.1728495\ttotal: 4.75s\tremaining: 3.11s\n",
      "604:\tlearn: 0.1728111\ttotal: 4.75s\tremaining: 3.1s\n",
      "605:\tlearn: 0.1727772\ttotal: 4.76s\tremaining: 3.09s\n",
      "606:\tlearn: 0.1727133\ttotal: 4.76s\tremaining: 3.08s\n",
      "607:\tlearn: 0.1726598\ttotal: 4.77s\tremaining: 3.08s\n",
      "608:\tlearn: 0.1726390\ttotal: 4.78s\tremaining: 3.07s\n",
      "609:\tlearn: 0.1725655\ttotal: 4.78s\tremaining: 3.06s\n",
      "610:\tlearn: 0.1725091\ttotal: 4.79s\tremaining: 3.05s\n",
      "611:\tlearn: 0.1724705\ttotal: 4.79s\tremaining: 3.04s\n",
      "612:\tlearn: 0.1724360\ttotal: 4.8s\tremaining: 3.03s\n",
      "613:\tlearn: 0.1723835\ttotal: 4.81s\tremaining: 3.02s\n",
      "614:\tlearn: 0.1723148\ttotal: 4.82s\tremaining: 3.01s\n",
      "615:\tlearn: 0.1722677\ttotal: 4.82s\tremaining: 3s\n",
      "616:\tlearn: 0.1721782\ttotal: 4.83s\tremaining: 3s\n",
      "617:\tlearn: 0.1721136\ttotal: 4.83s\tremaining: 2.99s\n",
      "618:\tlearn: 0.1720537\ttotal: 4.84s\tremaining: 2.98s\n",
      "619:\tlearn: 0.1720156\ttotal: 4.84s\tremaining: 2.97s\n",
      "620:\tlearn: 0.1719523\ttotal: 4.85s\tremaining: 2.96s\n",
      "621:\tlearn: 0.1719206\ttotal: 4.86s\tremaining: 2.95s\n",
      "622:\tlearn: 0.1718883\ttotal: 4.86s\tremaining: 2.94s\n",
      "623:\tlearn: 0.1718433\ttotal: 4.87s\tremaining: 2.93s\n",
      "624:\tlearn: 0.1717906\ttotal: 4.87s\tremaining: 2.92s\n",
      "625:\tlearn: 0.1717281\ttotal: 4.88s\tremaining: 2.92s\n",
      "626:\tlearn: 0.1716815\ttotal: 4.89s\tremaining: 2.91s\n",
      "627:\tlearn: 0.1716368\ttotal: 4.9s\tremaining: 2.9s\n",
      "628:\tlearn: 0.1715998\ttotal: 4.9s\tremaining: 2.89s\n",
      "629:\tlearn: 0.1715553\ttotal: 4.91s\tremaining: 2.88s\n",
      "630:\tlearn: 0.1715005\ttotal: 4.92s\tremaining: 2.88s\n",
      "631:\tlearn: 0.1714374\ttotal: 4.92s\tremaining: 2.87s\n",
      "632:\tlearn: 0.1713966\ttotal: 4.93s\tremaining: 2.86s\n",
      "633:\tlearn: 0.1713508\ttotal: 4.93s\tremaining: 2.85s\n",
      "634:\tlearn: 0.1713173\ttotal: 4.94s\tremaining: 2.84s\n",
      "635:\tlearn: 0.1712526\ttotal: 4.95s\tremaining: 2.83s\n",
      "636:\tlearn: 0.1711925\ttotal: 4.95s\tremaining: 2.82s\n",
      "637:\tlearn: 0.1711121\ttotal: 4.96s\tremaining: 2.81s\n",
      "638:\tlearn: 0.1710511\ttotal: 4.96s\tremaining: 2.8s\n",
      "639:\tlearn: 0.1710147\ttotal: 4.97s\tremaining: 2.79s\n",
      "640:\tlearn: 0.1709725\ttotal: 4.97s\tremaining: 2.79s\n",
      "641:\tlearn: 0.1709186\ttotal: 4.98s\tremaining: 2.78s\n",
      "642:\tlearn: 0.1708704\ttotal: 4.99s\tremaining: 2.77s\n",
      "643:\tlearn: 0.1708341\ttotal: 5s\tremaining: 2.76s\n",
      "644:\tlearn: 0.1707991\ttotal: 5s\tremaining: 2.75s\n",
      "645:\tlearn: 0.1707633\ttotal: 5.01s\tremaining: 2.74s\n",
      "646:\tlearn: 0.1706922\ttotal: 5.01s\tremaining: 2.73s\n",
      "647:\tlearn: 0.1706253\ttotal: 5.02s\tremaining: 2.73s\n",
      "648:\tlearn: 0.1705619\ttotal: 5.03s\tremaining: 2.72s\n",
      "649:\tlearn: 0.1705255\ttotal: 5.03s\tremaining: 2.71s\n",
      "650:\tlearn: 0.1704964\ttotal: 5.04s\tremaining: 2.7s\n",
      "651:\tlearn: 0.1704591\ttotal: 5.04s\tremaining: 2.69s\n",
      "652:\tlearn: 0.1704099\ttotal: 5.05s\tremaining: 2.68s\n",
      "653:\tlearn: 0.1703626\ttotal: 5.05s\tremaining: 2.67s\n",
      "654:\tlearn: 0.1703174\ttotal: 5.06s\tremaining: 2.67s\n",
      "655:\tlearn: 0.1702781\ttotal: 5.07s\tremaining: 2.66s\n",
      "656:\tlearn: 0.1702362\ttotal: 5.07s\tremaining: 2.65s\n",
      "657:\tlearn: 0.1701930\ttotal: 5.08s\tremaining: 2.64s\n",
      "658:\tlearn: 0.1701375\ttotal: 5.08s\tremaining: 2.63s\n",
      "659:\tlearn: 0.1701011\ttotal: 5.09s\tremaining: 2.62s\n",
      "660:\tlearn: 0.1700448\ttotal: 5.09s\tremaining: 2.61s\n",
      "661:\tlearn: 0.1700120\ttotal: 5.1s\tremaining: 2.6s\n",
      "662:\tlearn: 0.1699701\ttotal: 5.1s\tremaining: 2.59s\n",
      "663:\tlearn: 0.1699217\ttotal: 5.11s\tremaining: 2.58s\n",
      "664:\tlearn: 0.1698510\ttotal: 5.11s\tremaining: 2.58s\n",
      "665:\tlearn: 0.1697695\ttotal: 5.12s\tremaining: 2.57s\n",
      "666:\tlearn: 0.1697227\ttotal: 5.13s\tremaining: 2.56s\n",
      "667:\tlearn: 0.1696718\ttotal: 5.13s\tremaining: 2.55s\n",
      "668:\tlearn: 0.1696192\ttotal: 5.14s\tremaining: 2.54s\n",
      "669:\tlearn: 0.1695695\ttotal: 5.14s\tremaining: 2.53s\n",
      "670:\tlearn: 0.1695091\ttotal: 5.15s\tremaining: 2.52s\n",
      "671:\tlearn: 0.1694685\ttotal: 5.15s\tremaining: 2.52s\n",
      "672:\tlearn: 0.1694200\ttotal: 5.16s\tremaining: 2.51s\n",
      "673:\tlearn: 0.1693618\ttotal: 5.16s\tremaining: 2.5s\n",
      "674:\tlearn: 0.1693234\ttotal: 5.17s\tremaining: 2.49s\n",
      "675:\tlearn: 0.1692972\ttotal: 5.17s\tremaining: 2.48s\n",
      "676:\tlearn: 0.1692789\ttotal: 5.18s\tremaining: 2.47s\n",
      "677:\tlearn: 0.1692292\ttotal: 5.19s\tremaining: 2.46s\n",
      "678:\tlearn: 0.1691616\ttotal: 5.2s\tremaining: 2.46s\n",
      "679:\tlearn: 0.1691257\ttotal: 5.21s\tremaining: 2.45s\n",
      "680:\tlearn: 0.1690748\ttotal: 5.21s\tremaining: 2.44s\n",
      "681:\tlearn: 0.1690263\ttotal: 5.22s\tremaining: 2.43s\n",
      "682:\tlearn: 0.1689725\ttotal: 5.23s\tremaining: 2.42s\n",
      "683:\tlearn: 0.1689492\ttotal: 5.23s\tremaining: 2.42s\n",
      "684:\tlearn: 0.1689297\ttotal: 5.24s\tremaining: 2.41s\n",
      "685:\tlearn: 0.1688963\ttotal: 5.24s\tremaining: 2.4s\n",
      "686:\tlearn: 0.1688657\ttotal: 5.25s\tremaining: 2.39s\n",
      "687:\tlearn: 0.1688338\ttotal: 5.25s\tremaining: 2.38s\n",
      "688:\tlearn: 0.1688048\ttotal: 5.26s\tremaining: 2.37s\n",
      "689:\tlearn: 0.1687382\ttotal: 5.26s\tremaining: 2.37s\n",
      "690:\tlearn: 0.1686814\ttotal: 5.27s\tremaining: 2.36s\n",
      "691:\tlearn: 0.1686182\ttotal: 5.28s\tremaining: 2.35s\n",
      "692:\tlearn: 0.1685745\ttotal: 5.29s\tremaining: 2.34s\n",
      "693:\tlearn: 0.1685383\ttotal: 5.29s\tremaining: 2.33s\n",
      "694:\tlearn: 0.1684961\ttotal: 5.3s\tremaining: 2.32s\n",
      "695:\tlearn: 0.1684456\ttotal: 5.3s\tremaining: 2.32s\n",
      "696:\tlearn: 0.1684221\ttotal: 5.31s\tremaining: 2.31s\n",
      "697:\tlearn: 0.1683589\ttotal: 5.31s\tremaining: 2.3s\n",
      "698:\tlearn: 0.1682940\ttotal: 5.32s\tremaining: 2.29s\n",
      "699:\tlearn: 0.1682620\ttotal: 5.32s\tremaining: 2.28s\n",
      "700:\tlearn: 0.1682340\ttotal: 5.33s\tremaining: 2.27s\n",
      "701:\tlearn: 0.1682019\ttotal: 5.34s\tremaining: 2.27s\n",
      "702:\tlearn: 0.1681591\ttotal: 5.34s\tremaining: 2.26s\n",
      "703:\tlearn: 0.1681201\ttotal: 5.35s\tremaining: 2.25s\n",
      "704:\tlearn: 0.1680829\ttotal: 5.35s\tremaining: 2.24s\n",
      "705:\tlearn: 0.1680500\ttotal: 5.36s\tremaining: 2.23s\n",
      "706:\tlearn: 0.1680025\ttotal: 5.36s\tremaining: 2.22s\n",
      "707:\tlearn: 0.1679728\ttotal: 5.37s\tremaining: 2.21s\n",
      "708:\tlearn: 0.1679380\ttotal: 5.37s\tremaining: 2.21s\n",
      "709:\tlearn: 0.1678900\ttotal: 5.38s\tremaining: 2.2s\n",
      "710:\tlearn: 0.1678219\ttotal: 5.39s\tremaining: 2.19s\n",
      "711:\tlearn: 0.1678099\ttotal: 5.39s\tremaining: 2.18s\n",
      "712:\tlearn: 0.1677504\ttotal: 5.4s\tremaining: 2.17s\n",
      "713:\tlearn: 0.1677178\ttotal: 5.4s\tremaining: 2.17s\n",
      "714:\tlearn: 0.1676576\ttotal: 5.41s\tremaining: 2.16s\n",
      "715:\tlearn: 0.1675871\ttotal: 5.42s\tremaining: 2.15s\n",
      "716:\tlearn: 0.1675224\ttotal: 5.43s\tremaining: 2.14s\n",
      "717:\tlearn: 0.1674799\ttotal: 5.43s\tremaining: 2.13s\n",
      "718:\tlearn: 0.1674407\ttotal: 5.44s\tremaining: 2.13s\n",
      "719:\tlearn: 0.1673869\ttotal: 5.44s\tremaining: 2.12s\n",
      "720:\tlearn: 0.1673708\ttotal: 5.45s\tremaining: 2.11s\n",
      "721:\tlearn: 0.1673378\ttotal: 5.46s\tremaining: 2.1s\n",
      "722:\tlearn: 0.1672760\ttotal: 5.46s\tremaining: 2.09s\n",
      "723:\tlearn: 0.1672118\ttotal: 5.47s\tremaining: 2.08s\n",
      "724:\tlearn: 0.1671590\ttotal: 5.47s\tremaining: 2.08s\n",
      "725:\tlearn: 0.1671270\ttotal: 5.48s\tremaining: 2.07s\n",
      "726:\tlearn: 0.1671030\ttotal: 5.48s\tremaining: 2.06s\n",
      "727:\tlearn: 0.1670536\ttotal: 5.49s\tremaining: 2.05s\n",
      "728:\tlearn: 0.1669997\ttotal: 5.49s\tremaining: 2.04s\n",
      "729:\tlearn: 0.1669690\ttotal: 5.5s\tremaining: 2.03s\n",
      "730:\tlearn: 0.1669276\ttotal: 5.5s\tremaining: 2.03s\n",
      "731:\tlearn: 0.1668833\ttotal: 5.51s\tremaining: 2.02s\n",
      "732:\tlearn: 0.1668440\ttotal: 5.52s\tremaining: 2.01s\n",
      "733:\tlearn: 0.1667870\ttotal: 5.52s\tremaining: 2s\n",
      "734:\tlearn: 0.1667377\ttotal: 5.53s\tremaining: 1.99s\n",
      "735:\tlearn: 0.1667057\ttotal: 5.53s\tremaining: 1.98s\n",
      "736:\tlearn: 0.1666689\ttotal: 5.54s\tremaining: 1.98s\n",
      "737:\tlearn: 0.1665978\ttotal: 5.55s\tremaining: 1.97s\n",
      "738:\tlearn: 0.1665412\ttotal: 5.55s\tremaining: 1.96s\n",
      "739:\tlearn: 0.1665106\ttotal: 5.56s\tremaining: 1.95s\n",
      "740:\tlearn: 0.1664521\ttotal: 5.57s\tremaining: 1.95s\n",
      "741:\tlearn: 0.1664045\ttotal: 5.57s\tremaining: 1.94s\n",
      "742:\tlearn: 0.1663243\ttotal: 5.58s\tremaining: 1.93s\n",
      "743:\tlearn: 0.1662609\ttotal: 5.58s\tremaining: 1.92s\n",
      "744:\tlearn: 0.1662133\ttotal: 5.59s\tremaining: 1.91s\n",
      "745:\tlearn: 0.1661695\ttotal: 5.59s\tremaining: 1.9s\n",
      "746:\tlearn: 0.1661231\ttotal: 5.6s\tremaining: 1.9s\n",
      "747:\tlearn: 0.1660667\ttotal: 5.6s\tremaining: 1.89s\n",
      "748:\tlearn: 0.1660438\ttotal: 5.61s\tremaining: 1.88s\n",
      "749:\tlearn: 0.1660227\ttotal: 5.62s\tremaining: 1.87s\n",
      "750:\tlearn: 0.1659802\ttotal: 5.62s\tremaining: 1.86s\n",
      "751:\tlearn: 0.1659169\ttotal: 5.63s\tremaining: 1.86s\n",
      "752:\tlearn: 0.1658900\ttotal: 5.63s\tremaining: 1.85s\n",
      "753:\tlearn: 0.1658428\ttotal: 5.64s\tremaining: 1.84s\n",
      "754:\tlearn: 0.1658051\ttotal: 5.65s\tremaining: 1.83s\n",
      "755:\tlearn: 0.1657370\ttotal: 5.65s\tremaining: 1.82s\n",
      "756:\tlearn: 0.1656773\ttotal: 5.66s\tremaining: 1.82s\n",
      "757:\tlearn: 0.1656360\ttotal: 5.67s\tremaining: 1.81s\n",
      "758:\tlearn: 0.1655865\ttotal: 5.67s\tremaining: 1.8s\n",
      "759:\tlearn: 0.1655775\ttotal: 5.68s\tremaining: 1.79s\n",
      "760:\tlearn: 0.1655420\ttotal: 5.69s\tremaining: 1.78s\n",
      "761:\tlearn: 0.1655327\ttotal: 5.69s\tremaining: 1.78s\n",
      "762:\tlearn: 0.1654915\ttotal: 5.7s\tremaining: 1.77s\n",
      "763:\tlearn: 0.1654494\ttotal: 5.7s\tremaining: 1.76s\n",
      "764:\tlearn: 0.1653948\ttotal: 5.71s\tremaining: 1.75s\n",
      "765:\tlearn: 0.1653078\ttotal: 5.71s\tremaining: 1.75s\n",
      "766:\tlearn: 0.1652515\ttotal: 5.72s\tremaining: 1.74s\n",
      "767:\tlearn: 0.1652043\ttotal: 5.72s\tremaining: 1.73s\n",
      "768:\tlearn: 0.1651553\ttotal: 5.73s\tremaining: 1.72s\n",
      "769:\tlearn: 0.1651245\ttotal: 5.74s\tremaining: 1.71s\n",
      "770:\tlearn: 0.1650840\ttotal: 5.74s\tremaining: 1.71s\n",
      "771:\tlearn: 0.1650143\ttotal: 5.75s\tremaining: 1.7s\n",
      "772:\tlearn: 0.1649569\ttotal: 5.75s\tremaining: 1.69s\n",
      "773:\tlearn: 0.1649079\ttotal: 5.76s\tremaining: 1.68s\n",
      "774:\tlearn: 0.1648742\ttotal: 5.76s\tremaining: 1.67s\n",
      "775:\tlearn: 0.1648383\ttotal: 5.77s\tremaining: 1.67s\n",
      "776:\tlearn: 0.1647893\ttotal: 5.78s\tremaining: 1.66s\n",
      "777:\tlearn: 0.1646970\ttotal: 5.78s\tremaining: 1.65s\n",
      "778:\tlearn: 0.1646338\ttotal: 5.79s\tremaining: 1.64s\n",
      "779:\tlearn: 0.1646096\ttotal: 5.79s\tremaining: 1.63s\n",
      "780:\tlearn: 0.1645724\ttotal: 5.8s\tremaining: 1.63s\n",
      "781:\tlearn: 0.1645357\ttotal: 5.8s\tremaining: 1.62s\n",
      "782:\tlearn: 0.1645085\ttotal: 5.81s\tremaining: 1.61s\n",
      "783:\tlearn: 0.1644548\ttotal: 5.81s\tremaining: 1.6s\n",
      "784:\tlearn: 0.1644036\ttotal: 5.82s\tremaining: 1.59s\n",
      "785:\tlearn: 0.1643706\ttotal: 5.83s\tremaining: 1.59s\n",
      "786:\tlearn: 0.1643015\ttotal: 5.83s\tremaining: 1.58s\n",
      "787:\tlearn: 0.1642534\ttotal: 5.84s\tremaining: 1.57s\n",
      "788:\tlearn: 0.1642216\ttotal: 5.84s\tremaining: 1.56s\n",
      "789:\tlearn: 0.1641748\ttotal: 5.85s\tremaining: 1.55s\n",
      "790:\tlearn: 0.1641290\ttotal: 5.86s\tremaining: 1.55s\n",
      "791:\tlearn: 0.1641213\ttotal: 5.86s\tremaining: 1.54s\n",
      "792:\tlearn: 0.1640669\ttotal: 5.87s\tremaining: 1.53s\n",
      "793:\tlearn: 0.1640201\ttotal: 5.87s\tremaining: 1.52s\n",
      "794:\tlearn: 0.1639682\ttotal: 5.88s\tremaining: 1.51s\n",
      "795:\tlearn: 0.1639345\ttotal: 5.88s\tremaining: 1.51s\n",
      "796:\tlearn: 0.1639137\ttotal: 5.89s\tremaining: 1.5s\n",
      "797:\tlearn: 0.1638860\ttotal: 5.89s\tremaining: 1.49s\n",
      "798:\tlearn: 0.1638463\ttotal: 5.9s\tremaining: 1.48s\n",
      "799:\tlearn: 0.1638015\ttotal: 5.91s\tremaining: 1.48s\n",
      "800:\tlearn: 0.1637930\ttotal: 5.91s\tremaining: 1.47s\n",
      "801:\tlearn: 0.1637559\ttotal: 5.92s\tremaining: 1.46s\n",
      "802:\tlearn: 0.1637248\ttotal: 5.92s\tremaining: 1.45s\n",
      "803:\tlearn: 0.1636752\ttotal: 5.93s\tremaining: 1.44s\n",
      "804:\tlearn: 0.1636680\ttotal: 5.93s\tremaining: 1.44s\n",
      "805:\tlearn: 0.1636253\ttotal: 5.94s\tremaining: 1.43s\n",
      "806:\tlearn: 0.1635978\ttotal: 5.94s\tremaining: 1.42s\n",
      "807:\tlearn: 0.1635577\ttotal: 5.95s\tremaining: 1.41s\n",
      "808:\tlearn: 0.1635143\ttotal: 5.95s\tremaining: 1.41s\n",
      "809:\tlearn: 0.1634680\ttotal: 5.96s\tremaining: 1.4s\n",
      "810:\tlearn: 0.1634594\ttotal: 5.96s\tremaining: 1.39s\n",
      "811:\tlearn: 0.1634144\ttotal: 5.97s\tremaining: 1.38s\n",
      "812:\tlearn: 0.1633862\ttotal: 5.97s\tremaining: 1.37s\n",
      "813:\tlearn: 0.1633512\ttotal: 5.98s\tremaining: 1.37s\n",
      "814:\tlearn: 0.1632847\ttotal: 5.99s\tremaining: 1.36s\n",
      "815:\tlearn: 0.1632401\ttotal: 5.99s\tremaining: 1.35s\n",
      "816:\tlearn: 0.1632157\ttotal: 6s\tremaining: 1.34s\n",
      "817:\tlearn: 0.1631700\ttotal: 6s\tremaining: 1.33s\n",
      "818:\tlearn: 0.1631505\ttotal: 6.01s\tremaining: 1.33s\n",
      "819:\tlearn: 0.1631198\ttotal: 6.01s\tremaining: 1.32s\n",
      "820:\tlearn: 0.1630721\ttotal: 6.02s\tremaining: 1.31s\n",
      "821:\tlearn: 0.1630411\ttotal: 6.02s\tremaining: 1.3s\n",
      "822:\tlearn: 0.1630077\ttotal: 6.03s\tremaining: 1.3s\n",
      "823:\tlearn: 0.1629682\ttotal: 6.04s\tremaining: 1.29s\n",
      "824:\tlearn: 0.1629426\ttotal: 6.04s\tremaining: 1.28s\n",
      "825:\tlearn: 0.1629058\ttotal: 6.05s\tremaining: 1.27s\n",
      "826:\tlearn: 0.1628926\ttotal: 6.05s\tremaining: 1.27s\n",
      "827:\tlearn: 0.1628782\ttotal: 6.06s\tremaining: 1.26s\n",
      "828:\tlearn: 0.1628372\ttotal: 6.06s\tremaining: 1.25s\n",
      "829:\tlearn: 0.1627873\ttotal: 6.07s\tremaining: 1.24s\n",
      "830:\tlearn: 0.1627452\ttotal: 6.07s\tremaining: 1.24s\n",
      "831:\tlearn: 0.1627127\ttotal: 6.08s\tremaining: 1.23s\n",
      "832:\tlearn: 0.1626523\ttotal: 6.08s\tremaining: 1.22s\n",
      "833:\tlearn: 0.1626082\ttotal: 6.09s\tremaining: 1.21s\n",
      "834:\tlearn: 0.1625619\ttotal: 6.09s\tremaining: 1.2s\n",
      "835:\tlearn: 0.1625280\ttotal: 6.1s\tremaining: 1.2s\n",
      "836:\tlearn: 0.1624891\ttotal: 6.11s\tremaining: 1.19s\n",
      "837:\tlearn: 0.1624540\ttotal: 6.11s\tremaining: 1.18s\n",
      "838:\tlearn: 0.1624314\ttotal: 6.12s\tremaining: 1.17s\n",
      "839:\tlearn: 0.1623808\ttotal: 6.12s\tremaining: 1.17s\n",
      "840:\tlearn: 0.1623747\ttotal: 6.13s\tremaining: 1.16s\n",
      "841:\tlearn: 0.1623234\ttotal: 6.13s\tremaining: 1.15s\n",
      "842:\tlearn: 0.1622816\ttotal: 6.14s\tremaining: 1.14s\n",
      "843:\tlearn: 0.1622516\ttotal: 6.14s\tremaining: 1.14s\n",
      "844:\tlearn: 0.1622296\ttotal: 6.15s\tremaining: 1.13s\n",
      "845:\tlearn: 0.1622224\ttotal: 6.15s\tremaining: 1.12s\n",
      "846:\tlearn: 0.1621951\ttotal: 6.16s\tremaining: 1.11s\n",
      "847:\tlearn: 0.1621876\ttotal: 6.16s\tremaining: 1.1s\n",
      "848:\tlearn: 0.1621553\ttotal: 6.17s\tremaining: 1.1s\n",
      "849:\tlearn: 0.1621039\ttotal: 6.17s\tremaining: 1.09s\n",
      "850:\tlearn: 0.1620590\ttotal: 6.18s\tremaining: 1.08s\n",
      "851:\tlearn: 0.1620345\ttotal: 6.18s\tremaining: 1.07s\n",
      "852:\tlearn: 0.1620244\ttotal: 6.19s\tremaining: 1.07s\n",
      "853:\tlearn: 0.1619752\ttotal: 6.2s\tremaining: 1.06s\n",
      "854:\tlearn: 0.1619242\ttotal: 6.2s\tremaining: 1.05s\n",
      "855:\tlearn: 0.1619156\ttotal: 6.21s\tremaining: 1.04s\n",
      "856:\tlearn: 0.1618772\ttotal: 6.21s\tremaining: 1.04s\n",
      "857:\tlearn: 0.1618716\ttotal: 6.22s\tremaining: 1.03s\n",
      "858:\tlearn: 0.1618367\ttotal: 6.22s\tremaining: 1.02s\n",
      "859:\tlearn: 0.1618019\ttotal: 6.23s\tremaining: 1.01s\n",
      "860:\tlearn: 0.1617553\ttotal: 6.23s\tremaining: 1.01s\n",
      "861:\tlearn: 0.1617077\ttotal: 6.26s\tremaining: 1s\n",
      "862:\tlearn: 0.1616566\ttotal: 6.27s\tremaining: 996ms\n",
      "863:\tlearn: 0.1615969\ttotal: 6.28s\tremaining: 988ms\n",
      "864:\tlearn: 0.1615874\ttotal: 6.28s\tremaining: 981ms\n",
      "865:\tlearn: 0.1615535\ttotal: 6.29s\tremaining: 973ms\n",
      "866:\tlearn: 0.1615068\ttotal: 6.29s\tremaining: 965ms\n",
      "867:\tlearn: 0.1614382\ttotal: 6.32s\tremaining: 960ms\n",
      "868:\tlearn: 0.1613822\ttotal: 6.32s\tremaining: 953ms\n",
      "869:\tlearn: 0.1613327\ttotal: 6.33s\tremaining: 945ms\n",
      "870:\tlearn: 0.1612825\ttotal: 6.33s\tremaining: 938ms\n",
      "871:\tlearn: 0.1612293\ttotal: 6.34s\tremaining: 930ms\n",
      "872:\tlearn: 0.1611876\ttotal: 6.34s\tremaining: 923ms\n",
      "873:\tlearn: 0.1611570\ttotal: 6.35s\tremaining: 915ms\n",
      "874:\tlearn: 0.1610989\ttotal: 6.35s\tremaining: 908ms\n",
      "875:\tlearn: 0.1610463\ttotal: 6.37s\tremaining: 901ms\n",
      "876:\tlearn: 0.1610123\ttotal: 6.38s\tremaining: 895ms\n",
      "877:\tlearn: 0.1609678\ttotal: 6.39s\tremaining: 888ms\n",
      "878:\tlearn: 0.1609402\ttotal: 6.4s\tremaining: 881ms\n",
      "879:\tlearn: 0.1608911\ttotal: 6.41s\tremaining: 874ms\n",
      "880:\tlearn: 0.1608574\ttotal: 6.42s\tremaining: 867ms\n",
      "881:\tlearn: 0.1608257\ttotal: 6.43s\tremaining: 860ms\n",
      "882:\tlearn: 0.1608033\ttotal: 6.43s\tremaining: 853ms\n",
      "883:\tlearn: 0.1607713\ttotal: 6.44s\tremaining: 845ms\n",
      "884:\tlearn: 0.1607239\ttotal: 6.45s\tremaining: 838ms\n",
      "885:\tlearn: 0.1606983\ttotal: 6.45s\tremaining: 830ms\n",
      "886:\tlearn: 0.1606735\ttotal: 6.46s\tremaining: 823ms\n",
      "887:\tlearn: 0.1606176\ttotal: 6.46s\tremaining: 815ms\n",
      "888:\tlearn: 0.1605822\ttotal: 6.47s\tremaining: 808ms\n",
      "889:\tlearn: 0.1605189\ttotal: 6.47s\tremaining: 800ms\n",
      "890:\tlearn: 0.1604867\ttotal: 6.48s\tremaining: 793ms\n",
      "891:\tlearn: 0.1604583\ttotal: 6.48s\tremaining: 785ms\n",
      "892:\tlearn: 0.1604458\ttotal: 6.49s\tremaining: 777ms\n",
      "893:\tlearn: 0.1603859\ttotal: 6.49s\tremaining: 770ms\n",
      "894:\tlearn: 0.1603592\ttotal: 6.5s\tremaining: 762ms\n",
      "895:\tlearn: 0.1603330\ttotal: 6.5s\tremaining: 755ms\n",
      "896:\tlearn: 0.1602847\ttotal: 6.51s\tremaining: 747ms\n",
      "897:\tlearn: 0.1602258\ttotal: 6.51s\tremaining: 740ms\n",
      "898:\tlearn: 0.1601360\ttotal: 6.52s\tremaining: 732ms\n",
      "899:\tlearn: 0.1600959\ttotal: 6.52s\tremaining: 725ms\n",
      "900:\tlearn: 0.1600401\ttotal: 6.53s\tremaining: 717ms\n",
      "901:\tlearn: 0.1600235\ttotal: 6.53s\tremaining: 710ms\n",
      "902:\tlearn: 0.1599629\ttotal: 6.54s\tremaining: 702ms\n",
      "903:\tlearn: 0.1599261\ttotal: 6.54s\tremaining: 695ms\n",
      "904:\tlearn: 0.1598856\ttotal: 6.55s\tremaining: 687ms\n",
      "905:\tlearn: 0.1598196\ttotal: 6.55s\tremaining: 680ms\n",
      "906:\tlearn: 0.1597917\ttotal: 6.56s\tremaining: 672ms\n",
      "907:\tlearn: 0.1597719\ttotal: 6.56s\tremaining: 665ms\n",
      "908:\tlearn: 0.1597585\ttotal: 6.57s\tremaining: 657ms\n",
      "909:\tlearn: 0.1597361\ttotal: 6.57s\tremaining: 650ms\n",
      "910:\tlearn: 0.1597019\ttotal: 6.58s\tremaining: 642ms\n",
      "911:\tlearn: 0.1596776\ttotal: 6.58s\tremaining: 635ms\n",
      "912:\tlearn: 0.1596545\ttotal: 6.58s\tremaining: 627ms\n",
      "913:\tlearn: 0.1595917\ttotal: 6.59s\tremaining: 620ms\n",
      "914:\tlearn: 0.1595589\ttotal: 6.59s\tremaining: 613ms\n",
      "915:\tlearn: 0.1595218\ttotal: 6.6s\tremaining: 605ms\n",
      "916:\tlearn: 0.1594905\ttotal: 6.6s\tremaining: 598ms\n",
      "917:\tlearn: 0.1594487\ttotal: 6.61s\tremaining: 590ms\n",
      "918:\tlearn: 0.1594309\ttotal: 6.61s\tremaining: 583ms\n",
      "919:\tlearn: 0.1593740\ttotal: 6.62s\tremaining: 576ms\n",
      "920:\tlearn: 0.1593397\ttotal: 6.62s\tremaining: 568ms\n",
      "921:\tlearn: 0.1593089\ttotal: 6.63s\tremaining: 561ms\n",
      "922:\tlearn: 0.1592916\ttotal: 6.63s\tremaining: 553ms\n",
      "923:\tlearn: 0.1592644\ttotal: 6.64s\tremaining: 546ms\n",
      "924:\tlearn: 0.1592483\ttotal: 6.64s\tremaining: 539ms\n",
      "925:\tlearn: 0.1592026\ttotal: 6.65s\tremaining: 531ms\n",
      "926:\tlearn: 0.1591485\ttotal: 6.65s\tremaining: 524ms\n",
      "927:\tlearn: 0.1591111\ttotal: 6.66s\tremaining: 517ms\n",
      "928:\tlearn: 0.1590604\ttotal: 6.66s\tremaining: 509ms\n",
      "929:\tlearn: 0.1590134\ttotal: 6.67s\tremaining: 502ms\n",
      "930:\tlearn: 0.1589891\ttotal: 6.67s\tremaining: 495ms\n",
      "931:\tlearn: 0.1589588\ttotal: 6.68s\tremaining: 487ms\n",
      "932:\tlearn: 0.1589200\ttotal: 6.68s\tremaining: 480ms\n",
      "933:\tlearn: 0.1588918\ttotal: 6.69s\tremaining: 473ms\n",
      "934:\tlearn: 0.1588681\ttotal: 6.69s\tremaining: 465ms\n",
      "935:\tlearn: 0.1588302\ttotal: 6.7s\tremaining: 458ms\n",
      "936:\tlearn: 0.1587971\ttotal: 6.71s\tremaining: 451ms\n",
      "937:\tlearn: 0.1587511\ttotal: 6.71s\tremaining: 443ms\n",
      "938:\tlearn: 0.1587044\ttotal: 6.71s\tremaining: 436ms\n",
      "939:\tlearn: 0.1586562\ttotal: 6.72s\tremaining: 429ms\n",
      "940:\tlearn: 0.1586350\ttotal: 6.72s\tremaining: 422ms\n",
      "941:\tlearn: 0.1585967\ttotal: 6.73s\tremaining: 414ms\n",
      "942:\tlearn: 0.1585923\ttotal: 6.73s\tremaining: 407ms\n",
      "943:\tlearn: 0.1585423\ttotal: 6.74s\tremaining: 400ms\n",
      "944:\tlearn: 0.1585115\ttotal: 6.74s\tremaining: 393ms\n",
      "945:\tlearn: 0.1585013\ttotal: 6.75s\tremaining: 385ms\n",
      "946:\tlearn: 0.1584598\ttotal: 6.75s\tremaining: 378ms\n",
      "947:\tlearn: 0.1583987\ttotal: 6.76s\tremaining: 371ms\n",
      "948:\tlearn: 0.1583598\ttotal: 6.76s\tremaining: 363ms\n",
      "949:\tlearn: 0.1582978\ttotal: 6.77s\tremaining: 356ms\n",
      "950:\tlearn: 0.1582731\ttotal: 6.77s\tremaining: 349ms\n",
      "951:\tlearn: 0.1582208\ttotal: 6.78s\tremaining: 342ms\n",
      "952:\tlearn: 0.1581841\ttotal: 6.79s\tremaining: 335ms\n",
      "953:\tlearn: 0.1581613\ttotal: 6.79s\tremaining: 327ms\n",
      "954:\tlearn: 0.1581187\ttotal: 6.8s\tremaining: 320ms\n",
      "955:\tlearn: 0.1580835\ttotal: 6.8s\tremaining: 313ms\n",
      "956:\tlearn: 0.1580619\ttotal: 6.81s\tremaining: 306ms\n",
      "957:\tlearn: 0.1580359\ttotal: 6.81s\tremaining: 299ms\n",
      "958:\tlearn: 0.1580060\ttotal: 6.82s\tremaining: 291ms\n",
      "959:\tlearn: 0.1579738\ttotal: 6.82s\tremaining: 284ms\n",
      "960:\tlearn: 0.1579458\ttotal: 6.83s\tremaining: 277ms\n",
      "961:\tlearn: 0.1579067\ttotal: 6.83s\tremaining: 270ms\n",
      "962:\tlearn: 0.1578591\ttotal: 6.84s\tremaining: 263ms\n",
      "963:\tlearn: 0.1578073\ttotal: 6.84s\tremaining: 256ms\n",
      "964:\tlearn: 0.1577778\ttotal: 6.85s\tremaining: 249ms\n",
      "965:\tlearn: 0.1577639\ttotal: 6.86s\tremaining: 241ms\n",
      "966:\tlearn: 0.1577064\ttotal: 6.87s\tremaining: 234ms\n",
      "967:\tlearn: 0.1576708\ttotal: 6.87s\tremaining: 227ms\n",
      "968:\tlearn: 0.1576405\ttotal: 6.88s\tremaining: 220ms\n",
      "969:\tlearn: 0.1575892\ttotal: 6.88s\tremaining: 213ms\n",
      "970:\tlearn: 0.1575401\ttotal: 6.89s\tremaining: 206ms\n",
      "971:\tlearn: 0.1575217\ttotal: 6.89s\tremaining: 199ms\n",
      "972:\tlearn: 0.1575045\ttotal: 6.9s\tremaining: 191ms\n",
      "973:\tlearn: 0.1574760\ttotal: 6.9s\tremaining: 184ms\n",
      "974:\tlearn: 0.1574337\ttotal: 6.91s\tremaining: 177ms\n",
      "975:\tlearn: 0.1574069\ttotal: 6.92s\tremaining: 170ms\n",
      "976:\tlearn: 0.1573693\ttotal: 6.92s\tremaining: 163ms\n",
      "977:\tlearn: 0.1573370\ttotal: 6.93s\tremaining: 156ms\n",
      "978:\tlearn: 0.1572956\ttotal: 6.93s\tremaining: 149ms\n",
      "979:\tlearn: 0.1572499\ttotal: 6.94s\tremaining: 142ms\n",
      "980:\tlearn: 0.1572255\ttotal: 6.95s\tremaining: 135ms\n",
      "981:\tlearn: 0.1571913\ttotal: 6.95s\tremaining: 127ms\n",
      "982:\tlearn: 0.1571491\ttotal: 6.96s\tremaining: 120ms\n",
      "983:\tlearn: 0.1571201\ttotal: 6.96s\tremaining: 113ms\n",
      "984:\tlearn: 0.1570776\ttotal: 6.96s\tremaining: 106ms\n",
      "985:\tlearn: 0.1570123\ttotal: 6.97s\tremaining: 99ms\n",
      "986:\tlearn: 0.1569611\ttotal: 6.97s\tremaining: 91.9ms\n",
      "987:\tlearn: 0.1569344\ttotal: 6.98s\tremaining: 84.8ms\n",
      "988:\tlearn: 0.1569239\ttotal: 6.99s\tremaining: 77.7ms\n",
      "989:\tlearn: 0.1568935\ttotal: 6.99s\tremaining: 70.6ms\n",
      "990:\tlearn: 0.1568503\ttotal: 7s\tremaining: 63.5ms\n",
      "991:\tlearn: 0.1567690\ttotal: 7s\tremaining: 56.5ms\n",
      "992:\tlearn: 0.1567322\ttotal: 7.01s\tremaining: 49.4ms\n",
      "993:\tlearn: 0.1567166\ttotal: 7.01s\tremaining: 42.3ms\n",
      "994:\tlearn: 0.1566804\ttotal: 7.02s\tremaining: 35.3ms\n",
      "995:\tlearn: 0.1566324\ttotal: 7.02s\tremaining: 28.2ms\n",
      "996:\tlearn: 0.1565902\ttotal: 7.03s\tremaining: 21.1ms\n",
      "997:\tlearn: 0.1565596\ttotal: 7.03s\tremaining: 14.1ms\n",
      "998:\tlearn: 0.1565305\ttotal: 7.04s\tremaining: 7.04ms\n",
      "999:\tlearn: 0.1565011\ttotal: 7.04s\tremaining: 0us\n",
      "ROC AUC для модели CatBoost: 0.9416219377978754\n"
     ]
    }
   ],
   "source": [
    "model = CatBoostClassifier()\n",
    "\n",
    "model.fit(x_train, y_train)\n",
    "\n",
    "predictions_proba = model.predict_proba(x_test)[:, 1]\n",
    "\n",
    "roc_auc = roc_auc_score(y_test, predictions_proba)\n",
    "print(f'ROC AUC для модели CatBoost: {roc_auc}')"
   ]
  },
  {
   "cell_type": "code",
   "execution_count": 34,
   "metadata": {},
   "outputs": [
    {
     "name": "stdout",
     "output_type": "stream",
     "text": [
      "ROC AUC для моей модели GBM: 0.9382922677969464\n"
     ]
    }
   ],
   "source": [
    "print(f'ROC AUC для моей модели GBM: {new_score}')"
   ]
  },
  {
   "cell_type": "markdown",
   "metadata": {},
   "source": [
    "___\n",
    "CatBoost работает слегка лучше - буквально на 0.003 - что на самом деле на грани погрешности. Работают две модели почти одинаково\n",
    "___"
   ]
  },
  {
   "cell_type": "markdown",
   "metadata": {
    "collapsed": false,
    "pycharm": {
     "name": "#%% md\n"
    }
   },
   "source": [
    "## Социализационный бонус. Новогоднее 🎆 (0.5 балла)\n",
    "\n",
    "Сфотографируйтесь с наряженной новогодней или рождественской ёлкой! Приложите фотографию, опишите свои впечатления, чего вы ждете от нового 2024 года?"
   ]
  },
  {
   "cell_type": "markdown",
   "metadata": {},
   "source": [
    ""
   ]
  },
  {
   "cell_type": "markdown",
   "metadata": {},
   "source": [
    ""
   ]
  }
 ],
 "metadata": {
  "kernelspec": {
   "display_name": "Python 3 (ipykernel)",
   "language": "python",
   "name": "python3"
  },
  "language_info": {
   "codemirror_mode": {
    "name": "ipython",
    "version": 3
   },
   "file_extension": ".py",
   "mimetype": "text/x-python",
   "name": "python",
   "nbconvert_exporter": "python",
   "pygments_lexer": "ipython3",
   "version": "3.9.13"
  },
  "nbTranslate": {
   "displayLangs": [
    "*"
   ],
   "hotkey": "alt-t",
   "langInMainMenu": true,
   "sourceLang": "en",
   "targetLang": "fr",
   "useGoogleTranslate": true
  },
  "toc": {
   "base_numbering": 1,
   "nav_menu": {
    "height": "210px",
    "width": "492px"
   },
   "number_sections": false,
   "sideBar": true,
   "skip_h1_title": false,
   "title_cell": "Table of Contents",
   "title_sidebar": "Contents",
   "toc_cell": false,
   "toc_position": {},
   "toc_section_display": true,
   "toc_window_display": true
  },
  "varInspector": {
   "cols": {
    "lenName": 16,
    "lenType": 16,
    "lenVar": 40
   },
   "kernels_config": {
    "python": {
     "delete_cmd_postfix": "",
     "delete_cmd_prefix": "del ",
     "library": "var_list.py",
     "varRefreshCmd": "print(var_dic_list())"
    },
    "r": {
     "delete_cmd_postfix": ") ",
     "delete_cmd_prefix": "rm(",
     "library": "var_list.r",
     "varRefreshCmd": "cat(var_dic_list()) "
    }
   },
   "types_to_exclude": [
    "module",
    "function",
    "builtin_function_or_method",
    "instance",
    "_Feature"
   ],
   "window_display": false
  }
 },
 "nbformat": 4,
 "nbformat_minor": 4
}
